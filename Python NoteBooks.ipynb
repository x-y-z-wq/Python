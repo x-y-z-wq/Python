{
 "cells": [
  {
   "cell_type": "markdown",
   "id": "087cd12d",
   "metadata": {},
   "source": [
    "## Python 下载 \n",
    "![](https://github.com/x-y-z-wq/Pciture/blob/4b188595f0c0a406e5a20e86ba11a331168dc965/2022-01-08_165816.png)\n"
   ]
  },
  {
   "cell_type": "markdown",
   "id": "1eada443",
   "metadata": {},
   "source": [
    "## Python 安装\n",
    "![title](PythonPicture/2022-01-08_173633.png) \n",
    "![title](PythonPicture/2022-01-08_173722.png) \n",
    "![title](PythonPicture/2022-01-08_173852.png)\n",
    "![title](PythonPicture/2022-01-08_173955.png) "
   ]
  }
 ],
 "metadata": {
  "kernelspec": {
   "display_name": "Python 3",
   "language": "python",
   "name": "python3"
  },
  "language_info": {
   "codemirror_mode": {
    "name": "ipython",
    "version": 3
   },
   "file_extension": ".py",
   "mimetype": "text/x-python",
   "name": "python",
   "nbconvert_exporter": "python",
   "pygments_lexer": "ipython3",
   "version": "3.8.8"
  }
 },
 "nbformat": 4,
 "nbformat_minor": 5
}
