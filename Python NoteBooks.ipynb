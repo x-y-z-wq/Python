{
 "cells": [
  {
   "cell_type": "markdown",
   "id": "6ea13512",
   "metadata": {},
   "source": [
    "# 目录\n",
    "> [Python下载](#1.1)  \n",
    "> [Python安装](#1.2)  \n",
    "> [对象](#2.1)  \n",
    "> [引用](#2.2)   \n",
    "> [标识符](#2.3)   \n",
    "> [变量](#3.0)  \n",
    ">> [变量的声明](#3.1)  \n",
    ">> [变量的删除](#3.2)  \n",
    ">> [垃圾回收机制](#3.3)  \n",
    ">> [链式赋值](#3.4)  \n",
    ">> [系列解包赋值](#3.5)  \n",
    "\n",
    "> [常量](#4.0)  \n",
    "> [内置数据类型](#5.0)  \n",
    ">> [整型](#5.1) \n",
    ">>> [整型进制](#5.1.1)  \n",
    ">>> [整型转换](#5.1.2)  \n",
    "\n",
    ">> [浮点型](#5.2) \n",
    ">>> [浮点型转换](#5.2.1)  \n",
    ">>> [四舍五入](#5.2.2)  \n",
    ">>> [增强型运算符](#5.2.3)\n",
    "\n",
    ">> [布尔型](#5.3)  \n",
    ">>> [比较运算符](#5.3.1)  \n",
    ">>> [逻辑运算符](#5.3.2)  \n",
    ">>> [同一运算符](#5.3.3)  \n",
    "\n",
    ">> [字符串型](#5.4)\n",
    ">>> [字符串编码](#5.4.1)  \n",
    ">>> [创建字符串](#5.4.2)  \n",
    ">>> [空字符串](#5.4.3)  \n",
    ">>> [转义字符](#5.4.4)  \n",
    ">>> [字符串拼接](#5.4.5)  \n",
    ">>> [字符串复制](#5.4.6)  \n",
    ">>> [print](#5.4.7)  \n",
    ">>> [input 获取用户输入](#5.4.8)"
   ]
  },
  {
   "cell_type": "markdown",
   "id": "087cd12d",
   "metadata": {},
   "source": [
    "## <div id = \"1.1\"> Python 下载</div>\n",
    "![title](PythonPicture/2022-01-08_165816.png) "
   ]
  },
  {
   "cell_type": "markdown",
   "id": "1eada443",
   "metadata": {},
   "source": [
    "## <div id = \"1.2\"> Python 安装</div>\n",
    "![title](PythonPicture/2022-01-08_173633.png) \n",
    "![title](PythonPicture/2022-01-08_173722.png) \n",
    "![title](PythonPicture/2022-01-08_173852.png)\n",
    "![title](PythonPicture/2022-01-08_173955.png) "
   ]
  },
  {
   "cell_type": "markdown",
   "id": "821efa92",
   "metadata": {},
   "source": [
    "## <div id = \"2.1\">对象</div>"
   ]
  },
  {
   "cell_type": "markdown",
   "id": "b3405345",
   "metadata": {},
   "source": [
    "__对象的本质:一个内存块，拥有特定的值，支持特定类型的相关操作__   \n",
    "__Python中，一切皆对象。每个对象由：标识(id)、类型(type)、值(value)组成__  "
   ]
  },
  {
   "cell_type": "markdown",
   "id": "5fd70878",
   "metadata": {},
   "source": [
    "- id:标识用于唯一标识对象。通常对应于对象在计算机内存中的地址  \n",
    "- type:类型用于表示对象存储的\"数据\"的类型。类型可以限制对象的取值范围以及可执行的操作  \n",
    "- value:值标识对象所存储的数据的信息  "
   ]
  },
  {
   "cell_type": "markdown",
   "id": "50bbd20f",
   "metadata": {},
   "source": [
    "## <div id = \"2.2\">引用</div>"
   ]
  },
  {
   "cell_type": "markdown",
   "id": "b2a7fea4",
   "metadata": {},
   "source": [
    "__在Python中，变量是对对象的引用。因为，变量存储的是对象的地址，变量通过地址引用了\"对象\"  \n",
    "变量位于：栈内存  \n",
    "对象位于：堆内存__"
   ]
  },
  {
   "cell_type": "markdown",
   "id": "7375aa49",
   "metadata": {},
   "source": [
    "## <div id = \"2.3\">标识符</div>"
   ]
  },
  {
   "cell_type": "markdown",
   "id": "a4143f0d",
   "metadata": {},
   "source": [
    "__标识符:用于变量、函数、类、模块等的名称__  \n",
    "- 区分大小写\n",
    "- 第一个字符必须是字母、下划线。其后的字符是字母、数字、下划线\n",
    "- 不能使用关键字。关键字如下"
   ]
  },
  {
   "cell_type": "code",
   "execution_count": 1,
   "id": "c0805aa2",
   "metadata": {},
   "outputs": [
    {
     "name": "stdout",
     "output_type": "stream",
     "text": [
      "\n",
      "Welcome to Python 3.8's help utility!\n",
      "\n",
      "If this is your first time using Python, you should definitely check out\n",
      "the tutorial on the Internet at https://docs.python.org/3.8/tutorial/.\n",
      "\n",
      "Enter the name of any module, keyword, or topic to get help on writing\n",
      "Python programs and using Python modules.  To quit this help utility and\n",
      "return to the interpreter, just type \"quit\".\n",
      "\n",
      "To get a list of available modules, keywords, symbols, or topics, type\n",
      "\"modules\", \"keywords\", \"symbols\", or \"topics\".  Each module also comes\n",
      "with a one-line summary of what it does; to list the modules whose name\n",
      "or summary contain a given string such as \"spam\", type \"modules spam\".\n",
      "\n",
      "help> keywords\n",
      "\n",
      "Here is a list of the Python keywords.  Enter any keyword to get more help.\n",
      "\n",
      "False               class               from                or\n",
      "None                continue            global              pass\n",
      "True                def                 if                  raise\n",
      "and                 del                 import              return\n",
      "as                  elif                in                  try\n",
      "assert              else                is                  while\n",
      "async               except              lambda              with\n",
      "await               finally             nonlocal            yield\n",
      "break               for                 not                 \n",
      "\n",
      "help> quit\n",
      "\n",
      "You are now leaving help and returning to the Python interpreter.\n",
      "If you want to ask for help on a particular object directly from the\n",
      "interpreter, you can type \"help(object)\".  Executing \"help('string')\"\n",
      "has the same effect as typing a particular string at the help> prompt.\n"
     ]
    }
   ],
   "source": [
    "help()"
   ]
  },
  {
   "cell_type": "markdown",
   "id": "cf44156a",
   "metadata": {},
   "source": [
    "## <div id = \"3.0\">变量</div>"
   ]
  },
  {
   "cell_type": "markdown",
   "id": "4448a34f",
   "metadata": {},
   "source": [
    "### <div id = \"3.1\">变量的声明</div>"
   ]
  },
  {
   "cell_type": "code",
   "execution_count": 2,
   "id": "662fe129",
   "metadata": {},
   "outputs": [],
   "source": [
    "a = 77"
   ]
  },
  {
   "cell_type": "markdown",
   "id": "55cb005f",
   "metadata": {},
   "source": [
    "### <div id =\"3.2\">变量的删除</div>"
   ]
  },
  {
   "cell_type": "code",
   "execution_count": 3,
   "id": "f2c74e1d",
   "metadata": {},
   "outputs": [
    {
     "ename": "NameError",
     "evalue": "name 'a' is not defined",
     "output_type": "error",
     "traceback": [
      "\u001b[1;31m---------------------------------------------------------------------------\u001b[0m",
      "\u001b[1;31mNameError\u001b[0m                                 Traceback (most recent call last)",
      "\u001b[1;32m<ipython-input-3-d4834d16dd0a>\u001b[0m in \u001b[0;36m<module>\u001b[1;34m\u001b[0m\n\u001b[0;32m      1\u001b[0m \u001b[1;32mdel\u001b[0m \u001b[0ma\u001b[0m\u001b[1;33m\u001b[0m\u001b[1;33m\u001b[0m\u001b[0m\n\u001b[1;32m----> 2\u001b[1;33m \u001b[0ma\u001b[0m\u001b[1;33m\u001b[0m\u001b[1;33m\u001b[0m\u001b[0m\n\u001b[0m",
      "\u001b[1;31mNameError\u001b[0m: name 'a' is not defined"
     ]
    }
   ],
   "source": [
    "del a \n",
    "a"
   ]
  },
  {
   "cell_type": "markdown",
   "id": "439a5f39",
   "metadata": {},
   "source": [
    "### <div id =\"3.3\">垃圾回收机制</div>"
   ]
  },
  {
   "cell_type": "markdown",
   "id": "fea19372",
   "metadata": {},
   "source": [
    "__如果变量没有对象引用，就会被垃圾回收器回收，清空内存空间__"
   ]
  },
  {
   "cell_type": "markdown",
   "id": "7b69d85a",
   "metadata": {},
   "source": [
    "### <div id = \"3.4\">链式赋值</div>"
   ]
  },
  {
   "cell_type": "code",
   "execution_count": 4,
   "id": "bffc1653",
   "metadata": {},
   "outputs": [],
   "source": [
    "x = y = 3 "
   ]
  },
  {
   "cell_type": "markdown",
   "id": "10bf5cd1",
   "metadata": {},
   "source": [
    "### <div id = \"3.5\">系列解包赋值</div>"
   ]
  },
  {
   "cell_type": "code",
   "execution_count": 5,
   "id": "6bb0e980",
   "metadata": {},
   "outputs": [],
   "source": [
    "x,y,z = 3,4,5"
   ]
  },
  {
   "cell_type": "markdown",
   "id": "bcc9092c",
   "metadata": {},
   "source": [
    "__解包赋值实现变量互换__"
   ]
  },
  {
   "cell_type": "code",
   "execution_count": 6,
   "id": "c61ba3cc",
   "metadata": {},
   "outputs": [],
   "source": [
    "x,y = 3,4 \n",
    "x,y = y,x "
   ]
  },
  {
   "cell_type": "markdown",
   "id": "38426c0c",
   "metadata": {},
   "source": [
    "## <div id =\"4.0\">常量</div>"
   ]
  },
  {
   "cell_type": "markdown",
   "id": "823d7963",
   "metadata": {},
   "source": [
    "__Python不支持常量,没有语法规则限制改变一个常量的值.  \n",
    "我们只能约定常量的命名规则,已经逻辑上不对常量的值做出修改__"
   ]
  },
  {
   "cell_type": "code",
   "execution_count": 7,
   "id": "2b8ac5f3",
   "metadata": {},
   "outputs": [],
   "source": [
    "MONTH = 12"
   ]
  },
  {
   "cell_type": "markdown",
   "id": "987b7703",
   "metadata": {},
   "source": [
    "## <div id = \"5.0\">内置数据类型</div>"
   ]
  },
  {
   "cell_type": "markdown",
   "id": "1f828bb0",
   "metadata": {},
   "source": [
    "- 整型(int)\n",
    "- 浮点型(float)\n",
    "- 布尔型(bool)\n",
    "- 字符串型(str)"
   ]
  },
  {
   "cell_type": "markdown",
   "id": "4395149e",
   "metadata": {},
   "source": [
    "### <div id = \"5.1\">整型</div>"
   ]
  },
  {
   "cell_type": "code",
   "execution_count": 8,
   "id": "eb73a67b",
   "metadata": {},
   "outputs": [
    {
     "name": "stdout",
     "output_type": "stream",
     "text": [
      "加: 7\n",
      "减: -1\n",
      "除: 0.75\n",
      "乘: 12\n",
      "求整: 0\n",
      "求余: 3\n",
      "求幂: 81\n",
      "商和余数: (0, 3)\n"
     ]
    }
   ],
   "source": [
    "a,b = 3,4\n",
    "print(\"加:\",a+b)\n",
    "print(\"减:\",a-b)\n",
    "print(\"除:\",a/b)\n",
    "print(\"乘:\",a*b)\n",
    "print(\"求整:\",a//b)\n",
    "print(\"求余:\",a%b)\n",
    "print(\"求幂:\",a**b)\n",
    "print(\"商和余数:\",divmod(a,b))"
   ]
  },
  {
   "cell_type": "markdown",
   "id": "8b9575ec",
   "metadata": {},
   "source": [
    "### <div id =\"5.1.1\">整型进制</div>"
   ]
  },
  {
   "cell_type": "markdown",
   "id": "2560cb75",
   "metadata": {},
   "source": [
    "__Python中，除十进制，还有其他三种进制：__\n",
    "- 0b或0B,二进制 0 1\n",
    "- 0o或0O,八进制 0 1 2 3 4 5 6 7\n",
    "- 0x或0X,十六进制 0 1 2 3 4 5 6 7 8 9 a b c d e f"
   ]
  },
  {
   "cell_type": "code",
   "execution_count": 9,
   "id": "0f629e1a",
   "metadata": {},
   "outputs": [
    {
     "name": "stdout",
     "output_type": "stream",
     "text": [
      "二进制: 7\n",
      "八进制: 8\n",
      "十六进制: 255\n"
     ]
    }
   ],
   "source": [
    "print(\"二进制:\",0b111)\n",
    "print(\"八进制:\",0o10)\n",
    "print(\"十六进制:\",0xff)"
   ]
  },
  {
   "cell_type": "markdown",
   "id": "1269a8ac",
   "metadata": {},
   "source": [
    "### <div id = \"5.1.2\">int(obj)转换整型</div>"
   ]
  },
  {
   "cell_type": "code",
   "execution_count": 10,
   "id": "a364fc53",
   "metadata": {},
   "outputs": [
    {
     "data": {
      "text/plain": [
       "1"
      ]
     },
     "execution_count": 10,
     "metadata": {},
     "output_type": "execute_result"
    }
   ],
   "source": [
    "a = True \n",
    "int(a)"
   ]
  },
  {
   "cell_type": "markdown",
   "id": "b5bdf896",
   "metadata": {},
   "source": [
    "### <div id = \"5.2\">浮点型</div>"
   ]
  },
  {
   "cell_type": "code",
   "execution_count": 11,
   "id": "d3330cdd",
   "metadata": {},
   "outputs": [
    {
     "name": "stdout",
     "output_type": "stream",
     "text": [
      "加: 7.140000000000001\n",
      "减: -0.8599999999999999\n",
      "除: 0.785\n",
      "乘: 12.56\n",
      "求整: 0.0\n",
      "求余: 3.14\n",
      "求幂: 97.21171216000002\n",
      "商和余数: (0.0, 3.14)\n"
     ]
    }
   ],
   "source": [
    "a,b = 3.14,4\n",
    "print(\"加:\",a+b)\n",
    "print(\"减:\",a-b)\n",
    "print(\"除:\",a/b)\n",
    "print(\"乘:\",a*b)\n",
    "print(\"求整:\",a//b)\n",
    "print(\"求余:\",a%b)\n",
    "print(\"求幂:\",a**b)\n",
    "print(\"商和余数:\",divmod(a,b))"
   ]
  },
  {
   "cell_type": "markdown",
   "id": "a16e194c",
   "metadata": {},
   "source": [
    "### <div id = \"5.2.1\">float(obj)转换浮点数</div>"
   ]
  },
  {
   "cell_type": "code",
   "execution_count": 12,
   "id": "481f41d3",
   "metadata": {},
   "outputs": [
    {
     "data": {
      "text/plain": [
       "3.0"
      ]
     },
     "execution_count": 12,
     "metadata": {},
     "output_type": "execute_result"
    }
   ],
   "source": [
    "a = 3\n",
    "float(a)"
   ]
  },
  {
   "cell_type": "markdown",
   "id": "048511c1",
   "metadata": {},
   "source": [
    "### <div id = \"5.2.2\">四舍五入round(obj)</div>"
   ]
  },
  {
   "cell_type": "code",
   "execution_count": 13,
   "id": "9b6ea81e",
   "metadata": {},
   "outputs": [
    {
     "name": "stdout",
     "output_type": "stream",
     "text": [
      "4\n"
     ]
    }
   ],
   "source": [
    "print(round(3.77))"
   ]
  },
  {
   "cell_type": "markdown",
   "id": "64518101",
   "metadata": {},
   "source": [
    "### <div id = \"5.2.3\">增强型赋值运算符</div>"
   ]
  },
  {
   "cell_type": "markdown",
   "id": "50aa7524",
   "metadata": {},
   "source": [
    "- a += 1  等价于 a = a+1  \n",
    "- a -= 1  等价于 a = a-1  \n",
    "- a /= 1  等价于 a = a/1  "
   ]
  },
  {
   "cell_type": "code",
   "execution_count": 14,
   "id": "3c2d59e8",
   "metadata": {},
   "outputs": [],
   "source": [
    "a = 3.15\n",
    "a += 1 "
   ]
  },
  {
   "cell_type": "markdown",
   "id": "6d7f7238",
   "metadata": {},
   "source": [
    "### <div id = \"5.3\">布尔型True and False</div>"
   ]
  },
  {
   "cell_type": "code",
   "execution_count": 15,
   "id": "9fe8c678",
   "metadata": {},
   "outputs": [
    {
     "name": "stdout",
     "output_type": "stream",
     "text": [
      "True 1\n",
      "False 0\n"
     ]
    }
   ],
   "source": [
    "print(True,1) \n",
    "print(False,0)"
   ]
  },
  {
   "cell_type": "markdown",
   "id": "e5a5e70b",
   "metadata": {},
   "source": [
    "### <div id = \"5.3.1\">比较运算符</div>"
   ]
  },
  {
   "cell_type": "code",
   "execution_count": 16,
   "id": "922c5447",
   "metadata": {},
   "outputs": [
    {
     "data": {
      "text/plain": [
       "False"
      ]
     },
     "execution_count": 16,
     "metadata": {},
     "output_type": "execute_result"
    }
   ],
   "source": [
    "3 == 4"
   ]
  },
  {
   "cell_type": "markdown",
   "id": "45d555cf",
   "metadata": {},
   "source": [
    "### <div id = \"5.3.2\">逻辑运算符 and or not </div>"
   ]
  },
  {
   "cell_type": "code",
   "execution_count": 17,
   "id": "ea533e89",
   "metadata": {},
   "outputs": [
    {
     "data": {
      "text/plain": [
       "False"
      ]
     },
     "execution_count": 17,
     "metadata": {},
     "output_type": "execute_result"
    }
   ],
   "source": [
    "3 == 4 and 3 < 4 "
   ]
  },
  {
   "cell_type": "code",
   "execution_count": 18,
   "id": "7ef06edb",
   "metadata": {},
   "outputs": [
    {
     "data": {
      "text/plain": [
       "True"
      ]
     },
     "execution_count": 18,
     "metadata": {},
     "output_type": "execute_result"
    }
   ],
   "source": [
    "4 > 3 or 4 == 3 "
   ]
  },
  {
   "cell_type": "code",
   "execution_count": 19,
   "id": "2ececcf3",
   "metadata": {},
   "outputs": [
    {
     "data": {
      "text/plain": [
       "False"
      ]
     },
     "execution_count": 19,
     "metadata": {},
     "output_type": "execute_result"
    }
   ],
   "source": [
    "not 3"
   ]
  },
  {
   "cell_type": "markdown",
   "id": "cb923950",
   "metadata": {},
   "source": [
    "### <div id = \"5.3.3\">同一运算符 is / not is  </div>"
   ]
  },
  {
   "cell_type": "markdown",
   "id": "45141a3c",
   "metadata": {},
   "source": [
    "- is 判断是不是同一对象地址\n",
    "- == 判断值是否相等"
   ]
  },
  {
   "cell_type": "code",
   "execution_count": 20,
   "id": "3a48cdaa",
   "metadata": {},
   "outputs": [
    {
     "data": {
      "text/plain": [
       "False"
      ]
     },
     "execution_count": 20,
     "metadata": {},
     "output_type": "execute_result"
    }
   ],
   "source": [
    "a  = 1000 \n",
    "b  = 1000\n",
    "a is b "
   ]
  },
  {
   "cell_type": "markdown",
   "id": "453b45e8",
   "metadata": {},
   "source": [
    "缓存机制:Python中。对整型进行了一部分优化，进行缓存"
   ]
  },
  {
   "cell_type": "code",
   "execution_count": 21,
   "id": "883aa286",
   "metadata": {},
   "outputs": [
    {
     "data": {
      "text/plain": [
       "True"
      ]
     },
     "execution_count": 21,
     "metadata": {},
     "output_type": "execute_result"
    }
   ],
   "source": [
    "a = 5 \n",
    "b = 5 \n",
    "a is b"
   ]
  },
  {
   "cell_type": "markdown",
   "id": "87f9a8c4",
   "metadata": {},
   "source": [
    "### <div id = \"5.4\">字符串</div>"
   ]
  },
  {
   "cell_type": "markdown",
   "id": "d90c8a49",
   "metadata": {},
   "source": [
    "__字符串本质：字符序列   \n",
    "字符串是不可变的__"
   ]
  },
  {
   "cell_type": "markdown",
   "id": "f6383826",
   "metadata": {},
   "source": [
    "### <div id = \"5.4.1\">字符串编码</div>"
   ]
  },
  {
   "cell_type": "markdown",
   "id": "9d599665",
   "metadata": {},
   "source": [
    "__python3中，直接支持Unicode__\n",
    "- ord(obj)字符转Unicode码\n",
    "- chr(obj) 十进制Unicode转字符"
   ]
  },
  {
   "cell_type": "code",
   "execution_count": 22,
   "id": "6727a09d",
   "metadata": {},
   "outputs": [
    {
     "data": {
      "text/plain": [
       "19971"
      ]
     },
     "execution_count": 22,
     "metadata": {},
     "output_type": "execute_result"
    }
   ],
   "source": [
    "ord(\"七\")"
   ]
  },
  {
   "cell_type": "code",
   "execution_count": 23,
   "id": "2412dbed",
   "metadata": {},
   "outputs": [
    {
     "data": {
      "text/plain": [
       "'七'"
      ]
     },
     "execution_count": 23,
     "metadata": {},
     "output_type": "execute_result"
    }
   ],
   "source": [
    "chr(19971)"
   ]
  },
  {
   "cell_type": "markdown",
   "id": "d736b01c",
   "metadata": {},
   "source": [
    "### <div id = \"5.4.2\">创建字符串</div>"
   ]
  },
  {
   "cell_type": "code",
   "execution_count": 24,
   "id": "ac502651",
   "metadata": {},
   "outputs": [
    {
     "data": {
      "text/plain": [
       "('3', '4')"
      ]
     },
     "execution_count": 24,
     "metadata": {},
     "output_type": "execute_result"
    }
   ],
   "source": [
    "a = \"3\"\n",
    "b = '4'\n",
    "a,b"
   ]
  },
  {
   "cell_type": "markdown",
   "id": "43593ae0",
   "metadata": {},
   "source": [
    "### <div id = \"5.4.3\">空字符串</div>"
   ]
  },
  {
   "cell_type": "code",
   "execution_count": 25,
   "id": "e422c4cf",
   "metadata": {},
   "outputs": [
    {
     "data": {
      "text/plain": [
       "0"
      ]
     },
     "execution_count": 25,
     "metadata": {},
     "output_type": "execute_result"
    }
   ],
   "source": [
    "a= ''\n",
    "len(a)"
   ]
  },
  {
   "cell_type": "markdown",
   "id": "3fdc1411",
   "metadata": {},
   "source": [
    "### <div id = \"5.4.4\">转义字符</div>"
   ]
  },
  {
   "cell_type": "markdown",
   "id": "5d019cc6",
   "metadata": {},
   "source": [
    "- \\ 续行符\n",
    "- \\' 单引号\n",
    "- \\\" 双引号\n",
    "- \\b 退格\n",
    "- \\n 换行\n",
    "- \\t 横向制表符\n",
    "- \\r 回车"
   ]
  },
  {
   "cell_type": "code",
   "execution_count": 26,
   "id": "4550377c",
   "metadata": {},
   "outputs": [
    {
     "name": "stdout",
     "output_type": "stream",
     "text": [
      "3\n",
      "4\n"
     ]
    }
   ],
   "source": [
    "a = \"3\\n4\"\n",
    "print(a)"
   ]
  },
  {
   "cell_type": "markdown",
   "id": "9c684dba",
   "metadata": {},
   "source": [
    "### <div id = \"5.4.5\">字符串拼接</div>"
   ]
  },
  {
   "cell_type": "code",
   "execution_count": 27,
   "id": "78af392d",
   "metadata": {},
   "outputs": [
    {
     "data": {
      "text/plain": [
       "'34'"
      ]
     },
     "execution_count": 27,
     "metadata": {},
     "output_type": "execute_result"
    }
   ],
   "source": [
    "a = \"3\"\n",
    "b = \"4\"\n",
    "a+b"
   ]
  },
  {
   "cell_type": "code",
   "execution_count": 28,
   "id": "c4d05e8d",
   "metadata": {},
   "outputs": [
    {
     "data": {
      "text/plain": [
       "'34'"
      ]
     },
     "execution_count": 28,
     "metadata": {},
     "output_type": "execute_result"
    }
   ],
   "source": [
    "\"3\" \"4\""
   ]
  },
  {
   "cell_type": "markdown",
   "id": "1028e200",
   "metadata": {},
   "source": [
    "### <div id = \"5.4.6\">字符串复制</div>"
   ]
  },
  {
   "cell_type": "code",
   "execution_count": 29,
   "id": "f0fae615",
   "metadata": {},
   "outputs": [
    {
     "data": {
      "text/plain": [
       "'abcabcabc'"
      ]
     },
     "execution_count": 29,
     "metadata": {},
     "output_type": "execute_result"
    }
   ],
   "source": [
    "a = \"abc\"\n",
    "a*3"
   ]
  },
  {
   "cell_type": "markdown",
   "id": "2db36f5a",
   "metadata": {},
   "source": [
    "### <div id = \"5.4.7\">print 不换行打印</div>"
   ]
  },
  {
   "cell_type": "code",
   "execution_count": 30,
   "id": "c8556673",
   "metadata": {},
   "outputs": [
    {
     "name": "stdout",
     "output_type": "stream",
     "text": [
      "34\n"
     ]
    }
   ],
   "source": [
    "print(3,end='')\n",
    "print(4)"
   ]
  },
  {
   "cell_type": "markdown",
   "id": "633d4a30",
   "metadata": {},
   "source": [
    "### <div id = \"5.4.8\">获取用户输入</div>"
   ]
  },
  {
   "cell_type": "code",
   "execution_count": 31,
   "id": "e4d3707c",
   "metadata": {},
   "outputs": [
    {
     "name": "stdout",
     "output_type": "stream",
     "text": [
      "请输入:abc\n",
      "abc\n"
     ]
    }
   ],
   "source": [
    "a = input(\"请输入:\")\n",
    "print(a)"
   ]
  },
  {
   "cell_type": "markdown",
   "id": "f01a9674",
   "metadata": {},
   "source": [
    "### 浅拷贝 \n",
    "> 不拷贝__子对象__的内容，只拷贝__子对象__的引用"
   ]
  },
  {
   "cell_type": "code",
   "execution_count": 1,
   "id": "e62aea9c",
   "metadata": {},
   "outputs": [
    {
     "name": "stdout",
     "output_type": "stream",
     "text": [
      "lista [10, 20, 30, [1, 2]]\n",
      "listb [10, 20, 30, [1, 2]]\n",
      "lista [10, 20, 30, [1, 2, 3, 4], 40]\n",
      "listb [10, 20, 30, [1, 2, 3, 4], 50]\n"
     ]
    }
   ],
   "source": [
    "import copy\n",
    "\n",
    "lista = [10,20,30,[1,2]] \n",
    "listb = copy.copy(lista)\n",
    "\n",
    "print(\"lista\",lista)\n",
    "print(\"listb\",listb)\n",
    "\n",
    "\n",
    "lista.append(40)\n",
    "lista[3].append(3)\n",
    "listb.append(50)\n",
    "listb[3].append(4)\n",
    "\n",
    "print(\"lista\",lista)\n",
    "print(\"listb\",listb)"
   ]
  },
  {
   "cell_type": "markdown",
   "id": "3a88596d",
   "metadata": {},
   "source": [
    "### 深拷贝\n",
    "> 拷贝__子对象__的内容 "
   ]
  },
  {
   "cell_type": "code",
   "execution_count": 2,
   "id": "c0f71f08",
   "metadata": {},
   "outputs": [
    {
     "name": "stdout",
     "output_type": "stream",
     "text": [
      "lista [10, 20, 30, [1, 2]]\n",
      "listb [10, 20, 30, [1, 2]]\n",
      "lista [10, 20, 30, [1, 2, 3], 40]\n",
      "listb [10, 20, 30, [1, 2, 4], 50]\n"
     ]
    }
   ],
   "source": [
    "import copy\n",
    "\n",
    "lista = [10,20,30,[1,2]] \n",
    "listb = copy.deepcopy(lista)\n",
    "\n",
    "print(\"lista\",lista)\n",
    "print(\"listb\",listb)\n",
    "\n",
    "\n",
    "lista.append(40)\n",
    "lista[3].append(3)\n",
    "listb.append(50)\n",
    "listb[3].append(4)\n",
    "\n",
    "print(\"lista\",lista)\n",
    "print(\"listb\",listb)"
   ]
  },
  {
   "cell_type": "markdown",
   "id": "c30a7d70",
   "metadata": {},
   "source": [
    "## 函数"
   ]
  },
  {
   "cell_type": "markdown",
   "id": "7735b862",
   "metadata": {},
   "source": [
    "### 函数定义"
   ]
  },
  {
   "cell_type": "code",
   "execution_count": 1,
   "id": "aff60d5c",
   "metadata": {},
   "outputs": [],
   "source": [
    "def print_hello_world():\n",
    "    print('************')\n",
    "    print('Hello World!')\n",
    "    print('************')"
   ]
  },
  {
   "cell_type": "markdown",
   "id": "999a6a47",
   "metadata": {},
   "source": [
    "### 函数调用"
   ]
  },
  {
   "cell_type": "code",
   "execution_count": 2,
   "id": "2b1d5496",
   "metadata": {},
   "outputs": [
    {
     "name": "stdout",
     "output_type": "stream",
     "text": [
      "************\n",
      "Hello World!\n",
      "************\n"
     ]
    }
   ],
   "source": [
    "print_hello_world()"
   ]
  },
  {
   "cell_type": "markdown",
   "id": "6fe7c06c",
   "metadata": {},
   "source": [
    "### 函数是对象"
   ]
  },
  {
   "cell_type": "code",
   "execution_count": 3,
   "id": "7df27f7b",
   "metadata": {},
   "outputs": [
    {
     "name": "stdout",
     "output_type": "stream",
     "text": [
      "1899207350304\n",
      "<function print_hello_world at 0x000001BA31945820>\n",
      "<class 'function'>\n",
      "************\n",
      "Hello World!\n",
      "************\n"
     ]
    }
   ],
   "source": [
    "print(id(print_hello_world))\n",
    "print(print_hello_world)\n",
    "print(type(print_hello_world))\n",
    "a = print_hello_world\n",
    "a()"
   ]
  },
  {
   "cell_type": "markdown",
   "id": "7f048f73",
   "metadata": {},
   "source": [
    "### 文档字符串:函数说明"
   ]
  },
  {
   "cell_type": "code",
   "execution_count": 4,
   "id": "4dce87cd",
   "metadata": {},
   "outputs": [
    {
     "name": "stdout",
     "output_type": "stream",
     "text": [
      "No Python documentation found for '此函数用于打印传入参数'.\n",
      "Use help() to get the interactive help utility.\n",
      "Use help(str) for help on the str class.\n",
      "\n",
      "None\n",
      "Help on function print_param in module __main__:\n",
      "\n",
      "print_param(param1, param2)\n",
      "    此函数用于打印传入参数\n",
      "\n",
      "None\n"
     ]
    }
   ],
   "source": [
    "def print_param(param1,param2):\n",
    "    \"\"\"此函数用于打印传入参数\"\"\"\n",
    "    print(param1 * len(param2))\n",
    "    print(param2)\n",
    "    print(param1 * len(param2))\n",
    "\n",
    "\n",
    "print(help(print_param.__doc__))\n",
    "print(help(print_param))"
   ]
  },
  {
   "cell_type": "markdown",
   "id": "ce840ec1",
   "metadata": {},
   "source": [
    "### 形参与实参\n",
    "> 形参 定义函数时使用的参数  \n",
    "> 实参 调用函数时使用的参数"
   ]
  },
  {
   "cell_type": "code",
   "execution_count": 5,
   "id": "7e0b9f23",
   "metadata": {},
   "outputs": [
    {
     "name": "stdout",
     "output_type": "stream",
     "text": [
      "--------------\n",
      "This is Params\n",
      "--------------\n"
     ]
    }
   ],
   "source": [
    "def print_param(param1,param2):\n",
    "    print(param1 * len(param2))\n",
    "    print(param2)\n",
    "    print(param1 * len(param2))\n",
    "\n",
    "\n",
    "print_param('-','This is Params')"
   ]
  },
  {
   "cell_type": "markdown",
   "id": "87e1156e",
   "metadata": {},
   "source": [
    "### 函数返回值\n",
    "> 函数体包含return,结束函数执行并返回值  \n",
    "> 函数体不包含return,返回None"
   ]
  },
  {
   "cell_type": "code",
   "execution_count": 6,
   "id": "e7896fc8",
   "metadata": {},
   "outputs": [
    {
     "name": "stdout",
     "output_type": "stream",
     "text": [
      "5.0\n"
     ]
    }
   ],
   "source": [
    "def three_90(a,b):\n",
    "    \"\"\"直角三角形计算斜边\"\"\"\n",
    "    k =(a**2 + b**2)**0.5\n",
    "    return k\n",
    "    print(\"return 以后不执行此句\")\n",
    "    \n",
    "c= three_90(3,4)\n",
    "print(c)"
   ]
  },
  {
   "cell_type": "code",
   "execution_count": 7,
   "id": "7d8bd2a0",
   "metadata": {},
   "outputs": [
    {
     "name": "stdout",
     "output_type": "stream",
     "text": [
      "************\n",
      "Hello World!\n",
      "************\n",
      "None\n"
     ]
    }
   ],
   "source": [
    "def print_hello_world():\n",
    "    print('************')\n",
    "    print('Hello World!')\n",
    "    print('************')\n",
    "    return \n",
    "    print(\"return 以后不执行此句\")\n",
    "c = print_hello_world()\n",
    "print(c)"
   ]
  },
  {
   "cell_type": "markdown",
   "id": "78410de5",
   "metadata": {},
   "source": [
    "### 全局变量:在函数和类定义之外声明的变量  "
   ]
  },
  {
   "cell_type": "code",
   "execution_count": 8,
   "id": "43a9281f",
   "metadata": {},
   "outputs": [
    {
     "name": "stdout",
     "output_type": "stream",
     "text": [
      "5.0\n",
      "a是全局变量,可作用于函数内\n"
     ]
    }
   ],
   "source": [
    "def three_90():\n",
    "    \"\"\"直角三角形计算斜边\"\"\"\n",
    "    b = 4\n",
    "    k =(a**2 + b**2)**0.5\n",
    "    return k\n",
    "    \n",
    "a = 3\n",
    "print(three_90())\n",
    "print('a是全局变量,可作用于函数内')"
   ]
  },
  {
   "cell_type": "markdown",
   "id": "0fb965d0",
   "metadata": {},
   "source": [
    "### 局部变量:在函数体声明的变量 \n",
    "> 函数外部无法访问局部变量"
   ]
  },
  {
   "cell_type": "code",
   "execution_count": 9,
   "id": "2c262c9f",
   "metadata": {},
   "outputs": [
    {
     "name": "stdout",
     "output_type": "stream",
     "text": [
      "5.0\n",
      "b是全局变量,函数外部无法访问\n"
     ]
    },
    {
     "ename": "NameError",
     "evalue": "name 'b' is not defined",
     "output_type": "error",
     "traceback": [
      "\u001b[1;31m---------------------------------------------------------------------------\u001b[0m",
      "\u001b[1;31mNameError\u001b[0m                                 Traceback (most recent call last)",
      "\u001b[1;32m<ipython-input-9-db8cc80537ac>\u001b[0m in \u001b[0;36m<module>\u001b[1;34m\u001b[0m\n\u001b[0;32m      8\u001b[0m \u001b[0mprint\u001b[0m\u001b[1;33m(\u001b[0m\u001b[0mthree_90\u001b[0m\u001b[1;33m(\u001b[0m\u001b[1;33m)\u001b[0m\u001b[1;33m)\u001b[0m\u001b[1;33m\u001b[0m\u001b[1;33m\u001b[0m\u001b[0m\n\u001b[0;32m      9\u001b[0m \u001b[0mprint\u001b[0m\u001b[1;33m(\u001b[0m\u001b[1;34m'b是全局变量,函数外部无法访问'\u001b[0m\u001b[1;33m)\u001b[0m\u001b[1;33m\u001b[0m\u001b[1;33m\u001b[0m\u001b[0m\n\u001b[1;32m---> 10\u001b[1;33m \u001b[0mprint\u001b[0m\u001b[1;33m(\u001b[0m\u001b[0mb\u001b[0m\u001b[1;33m)\u001b[0m\u001b[1;33m\u001b[0m\u001b[1;33m\u001b[0m\u001b[0m\n\u001b[0m",
      "\u001b[1;31mNameError\u001b[0m: name 'b' is not defined"
     ]
    }
   ],
   "source": [
    "def three_90():\n",
    "    \"\"\"直角三角形计算斜边\"\"\"\n",
    "    b = 4\n",
    "    k =(a**2 + b**2)**0.5\n",
    "    return k\n",
    "    \n",
    "a = 3\n",
    "print(three_90())\n",
    "print('b是全局变量,函数外部无法访问')\n",
    "print(b)"
   ]
  },
  {
   "cell_type": "markdown",
   "id": "7dd81d31",
   "metadata": {},
   "source": [
    "### 如果全局变量和局部变量同名，函数内部优先使用局部变  "
   ]
  },
  {
   "cell_type": "code",
   "execution_count": 10,
   "id": "76d3fef7",
   "metadata": {},
   "outputs": [
    {
     "name": "stdout",
     "output_type": "stream",
     "text": [
      "5.0\n",
      "999\n"
     ]
    }
   ],
   "source": [
    "def three_90():\n",
    "    \"\"\"直角三角形计算斜边\"\"\"\n",
    "    a,b = 3,4\n",
    "    k =(a**2 + b**2)**0.5\n",
    "    return k\n",
    "    \n",
    "a = 999\n",
    "print(three_90())\n",
    "print(a)"
   ]
  },
  {
   "cell_type": "markdown",
   "id": "d39c1ba3",
   "metadata": {},
   "source": [
    "### global:用于将局部变量转全局变量"
   ]
  },
  {
   "cell_type": "code",
   "execution_count": 11,
   "id": "8eebbb6d",
   "metadata": {},
   "outputs": [
    {
     "name": "stdout",
     "output_type": "stream",
     "text": [
      "5.0\n",
      "3\n"
     ]
    }
   ],
   "source": [
    "def three_90():\n",
    "    \"\"\"直角三角形计算斜边\"\"\"\n",
    "    global a\n",
    "    a,b = 3,4\n",
    "    k =(a**2 + b**2)**0.5\n",
    "    return k\n",
    "    \n",
    "a = 999\n",
    "print(three_90())\n",
    "print(a)"
   ]
  },
  {
   "cell_type": "markdown",
   "id": "54757056",
   "metadata": {},
   "source": [
    "### 获取函数内部的局部变量与全局变量\n",
    "> 获取局部变量 locals()  \n",
    "> 获取全局变量 globals() "
   ]
  },
  {
   "cell_type": "code",
   "execution_count": 12,
   "id": "32593e90",
   "metadata": {},
   "outputs": [
    {
     "name": "stdout",
     "output_type": "stream",
     "text": [
      "{'a': 3, 'b': 4, 'k': 5.0}\n",
      "{'__name__': '__main__', '__doc__': 'Automatically created module for IPython interactive environment', '__package__': None, '__loader__': None, '__spec__': None, '__builtin__': <module 'builtins' (built-in)>, '__builtins__': <module 'builtins' (built-in)>, '_ih': ['', \"def print_hello_world():\\n    print('************')\\n    print('Hello World!')\\n    print('************')\", 'print_hello_world()', 'print(id(print_hello_world))\\nprint(print_hello_world)\\nprint(type(print_hello_world))\\na = print_hello_world\\na()', 'def print_param(param1,param2):\\n    \"\"\"此函数用于打印传入参数\"\"\"\\n    print(param1 * len(param2))\\n    print(param2)\\n    print(param1 * len(param2))\\n\\n\\nprint(help(print_param.__doc__))\\nprint(help(print_param))', \"def print_param(param1,param2):\\n    print(param1 * len(param2))\\n    print(param2)\\n    print(param1 * len(param2))\\n\\n\\nprint_param('-','This is Params')\", 'def three_90(a,b):\\n    \"\"\"直角三角形计算斜边\"\"\"\\n    k =(a**2 + b**2)**0.5\\n    return k\\n    print(\"return 以后不执行此句\")\\n    \\nc= three_90(3,4)\\nprint(c)', 'def print_hello_world():\\n    print(\\'************\\')\\n    print(\\'Hello World!\\')\\n    print(\\'************\\')\\n    return \\n    print(\"return 以后不执行此句\")\\nc = print_hello_world()\\nprint(c)', 'def three_90():\\n    \"\"\"直角三角形计算斜边\"\"\"\\n    b = 4\\n    k =(a**2 + b**2)**0.5\\n    return k\\n    \\na = 3\\nprint(three_90())\\nprint(\\'a是全局变量,可作用于函数内\\')', 'def three_90():\\n    \"\"\"直角三角形计算斜边\"\"\"\\n    b = 4\\n    k =(a**2 + b**2)**0.5\\n    return k\\n    \\na = 3\\nprint(three_90())\\nprint(\\'b是全局变量,函数外部无法访问\\')\\nprint(b)', 'def three_90():\\n    \"\"\"直角三角形计算斜边\"\"\"\\n    a,b = 3,4\\n    k =(a**2 + b**2)**0.5\\n    return k\\n    \\na = 999\\nprint(three_90())\\nprint(a)', 'def three_90():\\n    \"\"\"直角三角形计算斜边\"\"\"\\n    global a\\n    a,b = 3,4\\n    k =(a**2 + b**2)**0.5\\n    return k\\n    \\na = 999\\nprint(three_90())\\nprint(a)', 'def three_90():\\n    \"\"\"直角三角形计算斜边\"\"\"\\n    a,b = 3,4\\n    k =(a**2 + b**2)**0.5\\n    print(locals())\\n    print(globals())\\n    return k\\n    \\na = 999\\nprint(three_90())'], '_oh': {}, '_dh': ['C:\\\\Users\\\\86182\\\\Desktop\\\\NoteBooks\\\\Python Notebooks'], 'In': ['', \"def print_hello_world():\\n    print('************')\\n    print('Hello World!')\\n    print('************')\", 'print_hello_world()', 'print(id(print_hello_world))\\nprint(print_hello_world)\\nprint(type(print_hello_world))\\na = print_hello_world\\na()', 'def print_param(param1,param2):\\n    \"\"\"此函数用于打印传入参数\"\"\"\\n    print(param1 * len(param2))\\n    print(param2)\\n    print(param1 * len(param2))\\n\\n\\nprint(help(print_param.__doc__))\\nprint(help(print_param))', \"def print_param(param1,param2):\\n    print(param1 * len(param2))\\n    print(param2)\\n    print(param1 * len(param2))\\n\\n\\nprint_param('-','This is Params')\", 'def three_90(a,b):\\n    \"\"\"直角三角形计算斜边\"\"\"\\n    k =(a**2 + b**2)**0.5\\n    return k\\n    print(\"return 以后不执行此句\")\\n    \\nc= three_90(3,4)\\nprint(c)', 'def print_hello_world():\\n    print(\\'************\\')\\n    print(\\'Hello World!\\')\\n    print(\\'************\\')\\n    return \\n    print(\"return 以后不执行此句\")\\nc = print_hello_world()\\nprint(c)', 'def three_90():\\n    \"\"\"直角三角形计算斜边\"\"\"\\n    b = 4\\n    k =(a**2 + b**2)**0.5\\n    return k\\n    \\na = 3\\nprint(three_90())\\nprint(\\'a是全局变量,可作用于函数内\\')', 'def three_90():\\n    \"\"\"直角三角形计算斜边\"\"\"\\n    b = 4\\n    k =(a**2 + b**2)**0.5\\n    return k\\n    \\na = 3\\nprint(three_90())\\nprint(\\'b是全局变量,函数外部无法访问\\')\\nprint(b)', 'def three_90():\\n    \"\"\"直角三角形计算斜边\"\"\"\\n    a,b = 3,4\\n    k =(a**2 + b**2)**0.5\\n    return k\\n    \\na = 999\\nprint(three_90())\\nprint(a)', 'def three_90():\\n    \"\"\"直角三角形计算斜边\"\"\"\\n    global a\\n    a,b = 3,4\\n    k =(a**2 + b**2)**0.5\\n    return k\\n    \\na = 999\\nprint(three_90())\\nprint(a)', 'def three_90():\\n    \"\"\"直角三角形计算斜边\"\"\"\\n    a,b = 3,4\\n    k =(a**2 + b**2)**0.5\\n    print(locals())\\n    print(globals())\\n    return k\\n    \\na = 999\\nprint(three_90())'], 'Out': {}, 'get_ipython': <bound method InteractiveShell.get_ipython of <ipykernel.zmqshell.ZMQInteractiveShell object at 0x000001BA3184F5B0>>, 'exit': <IPython.core.autocall.ZMQExitAutocall object at 0x000001BA318F2CD0>, 'quit': <IPython.core.autocall.ZMQExitAutocall object at 0x000001BA318F2CD0>, '_': '', '__': '', '___': '', '_i': 'def three_90():\\n    \"\"\"直角三角形计算斜边\"\"\"\\n    global a\\n    a,b = 3,4\\n    k =(a**2 + b**2)**0.5\\n    return k\\n    \\na = 999\\nprint(three_90())\\nprint(a)', '_ii': 'def three_90():\\n    \"\"\"直角三角形计算斜边\"\"\"\\n    a,b = 3,4\\n    k =(a**2 + b**2)**0.5\\n    return k\\n    \\na = 999\\nprint(three_90())\\nprint(a)', '_iii': 'def three_90():\\n    \"\"\"直角三角形计算斜边\"\"\"\\n    b = 4\\n    k =(a**2 + b**2)**0.5\\n    return k\\n    \\na = 3\\nprint(three_90())\\nprint(\\'b是全局变量,函数外部无法访问\\')\\nprint(b)', '_i1': \"def print_hello_world():\\n    print('************')\\n    print('Hello World!')\\n    print('************')\", 'print_hello_world': <function print_hello_world at 0x000001BA31945430>, '_i2': 'print_hello_world()', '_i3': 'print(id(print_hello_world))\\nprint(print_hello_world)\\nprint(type(print_hello_world))\\na = print_hello_world\\na()', 'a': 999, '_i4': 'def print_param(param1,param2):\\n    \"\"\"此函数用于打印传入参数\"\"\"\\n    print(param1 * len(param2))\\n    print(param2)\\n    print(param1 * len(param2))\\n\\n\\nprint(help(print_param.__doc__))\\nprint(help(print_param))', 'print_param': <function print_param at 0x000001BA319458B0>, '_i5': \"def print_param(param1,param2):\\n    print(param1 * len(param2))\\n    print(param2)\\n    print(param1 * len(param2))\\n\\n\\nprint_param('-','This is Params')\", '_i6': 'def three_90(a,b):\\n    \"\"\"直角三角形计算斜边\"\"\"\\n    k =(a**2 + b**2)**0.5\\n    return k\\n    print(\"return 以后不执行此句\")\\n    \\nc= three_90(3,4)\\nprint(c)', 'three_90': <function three_90 at 0x000001BA31922C10>, 'c': None, '_i7': 'def print_hello_world():\\n    print(\\'************\\')\\n    print(\\'Hello World!\\')\\n    print(\\'************\\')\\n    return \\n    print(\"return 以后不执行此句\")\\nc = print_hello_world()\\nprint(c)', '_i8': 'def three_90():\\n    \"\"\"直角三角形计算斜边\"\"\"\\n    b = 4\\n    k =(a**2 + b**2)**0.5\\n    return k\\n    \\na = 3\\nprint(three_90())\\nprint(\\'a是全局变量,可作用于函数内\\')', '_i9': 'def three_90():\\n    \"\"\"直角三角形计算斜边\"\"\"\\n    b = 4\\n    k =(a**2 + b**2)**0.5\\n    return k\\n    \\na = 3\\nprint(three_90())\\nprint(\\'b是全局变量,函数外部无法访问\\')\\nprint(b)', '_i10': 'def three_90():\\n    \"\"\"直角三角形计算斜边\"\"\"\\n    a,b = 3,4\\n    k =(a**2 + b**2)**0.5\\n    return k\\n    \\na = 999\\nprint(three_90())\\nprint(a)', '_i11': 'def three_90():\\n    \"\"\"直角三角形计算斜边\"\"\"\\n    global a\\n    a,b = 3,4\\n    k =(a**2 + b**2)**0.5\\n    return k\\n    \\na = 999\\nprint(three_90())\\nprint(a)', '_i12': 'def three_90():\\n    \"\"\"直角三角形计算斜边\"\"\"\\n    a,b = 3,4\\n    k =(a**2 + b**2)**0.5\\n    print(locals())\\n    print(globals())\\n    return k\\n    \\na = 999\\nprint(three_90())'}\n",
      "5.0\n"
     ]
    }
   ],
   "source": [
    "def three_90():\n",
    "    \"\"\"直角三角形计算斜边\"\"\"\n",
    "    a,b = 3,4\n",
    "    k =(a**2 + b**2)**0.5\n",
    "    print(locals())\n",
    "    print(globals())\n",
    "    return k\n",
    "    \n",
    "a = 999\n",
    "print(three_90())"
   ]
  },
  {
   "cell_type": "markdown",
   "id": "42349196",
   "metadata": {},
   "source": [
    "### 局部变量查询、访问效率比全局变量高"
   ]
  },
  {
   "cell_type": "code",
   "execution_count": 13,
   "id": "caf42742",
   "metadata": {},
   "outputs": [
    {
     "name": "stdout",
     "output_type": "stream",
     "text": [
      "耗时1.288754940032959\n",
      "耗时1.3186156749725342\n"
     ]
    }
   ],
   "source": [
    "import time \n",
    "\n",
    "def sum_1_10n(sum=0):\n",
    "    a = 1\n",
    "    start = time.time()\n",
    "    \"\"\"计算1~10**7之和\"\"\"\n",
    "    for i in range(10**7):\n",
    "        sum  += i * a\n",
    "    end = time.time()\n",
    "    print(f\"耗时{end-start}\")\n",
    "\n",
    "def sum_1_10n_global(sum=0):\n",
    "    start = time.time()\n",
    "    \"\"\"计算1~10**7之和\"\"\"\n",
    "    global a \n",
    "    for i in range(10**7):\n",
    "        sum  += i * a\n",
    "    end = time.time()\n",
    "    print(f\"耗时{end-start}\")\n",
    "\n",
    "a = 1 \n",
    "sum_1_10n()\n",
    "sum_1_10n_global()"
   ]
  },
  {
   "cell_type": "markdown",
   "id": "759fc272",
   "metadata": {},
   "source": [
    "### 传递可变对象的引用 (列表、字典等)"
   ]
  },
  {
   "cell_type": "code",
   "execution_count": 14,
   "id": "42b6adef",
   "metadata": {},
   "outputs": [
    {
     "name": "stdout",
     "output_type": "stream",
     "text": [
      "1899207256128\n",
      "1899207256128\n",
      "[10, 20, 30]\n"
     ]
    }
   ],
   "source": [
    "def addlist(param1):\n",
    "    print(id(param1))\n",
    "    param1.append(30)\n",
    "    \n",
    "lista = [10,20]\n",
    "addlist(lista)\n",
    "print(id(lista))\n",
    "print(lista)"
   ]
  },
  {
   "cell_type": "code",
   "execution_count": 2,
   "id": "dba87440",
   "metadata": {},
   "outputs": [
    {
     "data": {
      "text/plain": [
       "[3, 1, 1]"
      ]
     },
     "execution_count": 2,
     "metadata": {},
     "output_type": "execute_result"
    }
   ],
   "source": [
    "def test(ls=[3]):\n",
    "    ls.append(1)\n",
    "    return ls\n",
    "\n",
    "a = test()\n",
    "b = test()\n",
    "b"
   ]
  },
  {
   "cell_type": "markdown",
   "id": "37ee8d99",
   "metadata": {},
   "source": [
    "### 传递不可变对象 (字符串、数字、元组等)"
   ]
  },
  {
   "cell_type": "code",
   "execution_count": 3,
   "id": "5068fd3b",
   "metadata": {},
   "outputs": [
    {
     "name": "stdout",
     "output_type": "stream",
     "text": [
      "140728541849456\n",
      "140728541849488\n",
      "4\n",
      "140728541849456\n"
     ]
    }
   ],
   "source": [
    "def addint(param1):\n",
    "    print(id(param1))      # 传递inta对象地址\n",
    "    param1 += 1            # 由于inta是不可变对象，因此创建新对象\n",
    "    print(id(param1))      # 已经变成新对象\n",
    "    print(param1)\n",
    "\n",
    "inta = 3 \n",
    "addint(inta)\n",
    "print(id(inta))"
   ]
  },
  {
   "cell_type": "markdown",
   "id": "eb8d3c09",
   "metadata": {},
   "source": [
    "### 传递不可变对象，且不可变对象包含可变对象\n",
    "> 子对象发生浅拷贝"
   ]
  },
  {
   "cell_type": "code",
   "execution_count": 5,
   "id": "17b6d634",
   "metadata": {},
   "outputs": [
    {
     "name": "stdout",
     "output_type": "stream",
     "text": [
      "(10, 20, [3, 4]) 2406022274944\n",
      "(10, 20, [3, 4]) 2406022274944\n",
      "(10, 20, [3, 4, 5]) 2406022274944\n",
      "(10, 20, [3, 4, 5]) 2406022274944\n"
     ]
    }
   ],
   "source": [
    "def addtuple(param1):\n",
    "    print(param1,id(param1))\n",
    "    param1[2].append(5)\n",
    "    print(param1,id(param1))\n",
    "\n",
    "tuplea = (10,20,[3,4])\n",
    "print(tuplea,id(tuplea))\n",
    "addtuple(tuplea)\n",
    "print(tuplea,id(tuplea))"
   ]
  },
  {
   "cell_type": "markdown",
   "id": "bb51e5ab",
   "metadata": {},
   "source": [
    "### 位置参数\n",
    "> 按形参顺序依次传递"
   ]
  },
  {
   "cell_type": "code",
   "execution_count": 6,
   "id": "a9072f49",
   "metadata": {},
   "outputs": [
    {
     "name": "stdout",
     "output_type": "stream",
     "text": [
      "5.0\n"
     ]
    }
   ],
   "source": [
    "def three_90(a,b):\n",
    "    \"\"\"直角三角形计算斜边\"\"\"\n",
    "    k =(a**2 + b**2)**0.5\n",
    "    return k\n",
    "    print(\"return 以后不执行此句\")\n",
    "    \n",
    "c= three_90(3,4)\n",
    "print(c)"
   ]
  },
  {
   "cell_type": "markdown",
   "id": "3b79753e",
   "metadata": {},
   "source": [
    "### 默认值参数\n",
    "> 默认值参数必须位于其他参数后面"
   ]
  },
  {
   "cell_type": "code",
   "execution_count": 11,
   "id": "c2748b4c",
   "metadata": {},
   "outputs": [
    {
     "name": "stdout",
     "output_type": "stream",
     "text": [
      "5.0\n",
      "5.830951894845301\n"
     ]
    }
   ],
   "source": [
    "def three_90(a,b = 4):\n",
    "    \"\"\"直角三角形计算斜边\"\"\"\n",
    "    k =(a**2 + b**2)**0.5\n",
    "    return k\n",
    "    print(\"return 以后不执行此句\")\n",
    "    \n",
    "c= three_90(3)\n",
    "print(c)\n",
    "\n",
    "d = three_90(3,5)\n",
    "print(d)"
   ]
  },
  {
   "cell_type": "markdown",
   "id": "fa5373c0",
   "metadata": {},
   "source": [
    "###  命名参数\n",
    "> 按形参名匹配"
   ]
  },
  {
   "cell_type": "code",
   "execution_count": 9,
   "id": "9a805aad",
   "metadata": {},
   "outputs": [
    {
     "name": "stdout",
     "output_type": "stream",
     "text": [
      "5.0\n"
     ]
    }
   ],
   "source": [
    "def three_90(a,b):\n",
    "    \"\"\"直角三角形计算斜边\"\"\"\n",
    "    k =(a**2 + b**2)**0.5\n",
    "    return k\n",
    "    print(\"return 以后不执行此句\")\n",
    "    \n",
    "c= three_90(b=4,a=3)\n",
    "print(c)"
   ]
  },
  {
   "cell_type": "markdown",
   "id": "368dc763",
   "metadata": {},
   "source": [
    "### 可变参数\n",
    "> \\*param,将多个参数放到一个元组对象中  \n",
    "> \\*\\*param,将多个参数放到一个字典对象中"
   ]
  },
  {
   "cell_type": "code",
   "execution_count": 3,
   "id": "a37aa9b7",
   "metadata": {},
   "outputs": [
    {
     "name": "stdout",
     "output_type": "stream",
     "text": [
      "可变参数c=(5, 6, 7)\n",
      "5.0\n"
     ]
    }
   ],
   "source": [
    "def three_90(a,b,*c):\n",
    "    \"\"\"直角三角形计算斜边\"\"\"\n",
    "    print(f\"可变参数c={c}\")\n",
    "    k =(a**2 + b**2)**0.5\n",
    "    return k\n",
    "    print(\"return 以后不执行此句\")\n",
    "    \n",
    "c= three_90(3,4,5,6,7)\n",
    "print(c)"
   ]
  },
  {
   "cell_type": "code",
   "execution_count": 5,
   "id": "7bc8a34c",
   "metadata": {},
   "outputs": [
    {
     "name": "stdout",
     "output_type": "stream",
     "text": [
      "可变参数c={'AB': 5, 'BC': 6, 'AC': 7}\n",
      "5.0\n"
     ]
    }
   ],
   "source": [
    "def three_90(a,b,**c):\n",
    "    \"\"\"直角三角形计算斜边\"\"\"\n",
    "    print(f\"可变参数c={c}\")\n",
    "    k =(a**2 + b**2)**0.5\n",
    "    return k\n",
    "    print(\"return 以后不执行此句\")\n",
    "    \n",
    "c= three_90(3,4,AB=5,BC=6,AC=7)\n",
    "print(c)"
   ]
  },
  {
   "cell_type": "markdown",
   "id": "e9c50dc8",
   "metadata": {},
   "source": [
    "### 当可变参数后面还有其他形参 如何调用"
   ]
  },
  {
   "cell_type": "code",
   "execution_count": 10,
   "id": "9fd8a630",
   "metadata": {},
   "outputs": [
    {
     "name": "stdout",
     "output_type": "stream",
     "text": [
      "可变参数c=(3, 4, 5)\n",
      "5.0\n"
     ]
    }
   ],
   "source": [
    "def three_90(*c,a,b):\n",
    "    \"\"\"直角三角形计算斜边\"\"\"\n",
    "    print(f\"可变参数c={c}\")\n",
    "    k =(a**2 + b**2)**0.5\n",
    "    return k\n",
    "    print(\"return 以后不执行此句\")\n",
    "    \n",
    "c= three_90(3,4,5,a=3,b=4)\n",
    "print(c)"
   ]
  },
  {
   "cell_type": "markdown",
   "id": "ba1c8d31",
   "metadata": {},
   "source": [
    "### lambda 匿名函数\n",
    "> 基本语法: lambda param1,param2,param3... :<表达式>"
   ]
  },
  {
   "cell_type": "code",
   "execution_count": 11,
   "id": "e64e82c2",
   "metadata": {},
   "outputs": [
    {
     "name": "stdout",
     "output_type": "stream",
     "text": [
      "5.0\n"
     ]
    }
   ],
   "source": [
    "three90 = lambda a,b:(a**2 + b**2)**0.5\n",
    "print(three90(3,4))"
   ]
  },
  {
   "cell_type": "code",
   "execution_count": 15,
   "id": "7d082a77",
   "metadata": {},
   "outputs": [
    {
     "name": "stdout",
     "output_type": "stream",
     "text": [
      "[9, 8, 6]\n"
     ]
    }
   ],
   "source": [
    "fuclist = [lambda a:a**2,lambda b:b*2,lambda c:c+1]\n",
    "lista =  [fuclist[0](3),fuclist[1](4),fuclist[2](5)]\n",
    "print(lista)"
   ]
  },
  {
   "cell_type": "markdown",
   "id": "6866c2f4",
   "metadata": {},
   "source": [
    "### 使用lambda进行排序"
   ]
  },
  {
   "cell_type": "code",
   "execution_count": 33,
   "id": "735e1f26",
   "metadata": {},
   "outputs": [
    {
     "name": "stdout",
     "output_type": "stream",
     "text": [
      "按列表元组中第一个值排序[('a', 5, 17), ('x', 5, 10), ('z', 1, 5)]\n",
      "按列表元组中第二个值与第一个值依次排序[('z', 1, 5), ('a', 5, 17), ('x', 5, 10)]\n"
     ]
    }
   ],
   "source": [
    "lista = [('z',1,5),('a',5,17),('x',5,10)]\n",
    "\n",
    "lista_one = sorted(lista,key=lambda x:x[0])\n",
    "print(f\"按列表元组中第一个值排序{lista_one}\")\n",
    "\n",
    "lista_two_one =  sorted(lista,key=lambda x:(x[1],x[0]))\n",
    "print(f\"按列表元组中第二个值与第一个值依次排序{lista_two_one}\")"
   ]
  },
  {
   "cell_type": "code",
   "execution_count": 29,
   "id": "cc7f0dba",
   "metadata": {},
   "outputs": [
    {
     "name": "stdout",
     "output_type": "stream",
     "text": [
      "['age2', 'age', 'age1']\n"
     ]
    }
   ],
   "source": [
    "dicta = {'age':40,'age1':30,'age2':50}\n",
    "dicta_key = sorted(dicta,key=lambda x:dicta[x],reverse = True)\n",
    "print(dicta_key)"
   ]
  },
  {
   "cell_type": "markdown",
   "id": "04da9c12",
   "metadata": {},
   "source": [
    "### eval() 去除字符两边的' '"
   ]
  },
  {
   "cell_type": "code",
   "execution_count": 30,
   "id": "f101deeb",
   "metadata": {},
   "outputs": [
    {
     "name": "stdout",
     "output_type": "stream",
     "text": [
      "6\n"
     ]
    }
   ],
   "source": [
    "stra = '3+3'\n",
    "print(eval(stra))"
   ]
  },
  {
   "cell_type": "markdown",
   "id": "70ed7ea5",
   "metadata": {},
   "source": [
    "### 递归函数\n",
    "> 自己调用自己的函数"
   ]
  },
  {
   "cell_type": "code",
   "execution_count": null,
   "id": "cbdb3371",
   "metadata": {},
   "outputs": [],
   "source": []
  },
  {
   "cell_type": "markdown",
   "id": "904aa7a8",
   "metadata": {},
   "source": [
    "### 装饰器 @Decorator"
   ]
  },
  {
   "cell_type": "code",
   "execution_count": 16,
   "id": "58baef13",
   "metadata": {},
   "outputs": [
    {
     "name": "stdout",
     "output_type": "stream",
     "text": [
      "***********\n",
      "hello world\n",
      "***********\n"
     ]
    }
   ],
   "source": [
    "def include_print_hello(func):\n",
    "    def include():\n",
    "        print('***********')\n",
    "        func()\n",
    "        print('***********')\n",
    "    return include\n",
    "\n",
    "@include_print_hello\n",
    "def print_hello():\n",
    "    print(\"hello world\")\n",
    "\n",
    "print_hello()"
   ]
  },
  {
   "cell_type": "markdown",
   "id": "22e5e150",
   "metadata": {},
   "source": [
    "### 装饰器 @Decorator (函数含参)"
   ]
  },
  {
   "cell_type": "code",
   "execution_count": 17,
   "id": "cd832261",
   "metadata": {},
   "outputs": [
    {
     "name": "stdout",
     "output_type": "stream",
     "text": [
      "***********\n",
      "hello world\n",
      "***********\n"
     ]
    }
   ],
   "source": [
    "def include_print_hello(func):\n",
    "    def include(*args,**kwagrgs):\n",
    "        print('***********')\n",
    "        func(*args,**kwagrgs)\n",
    "        print('***********')\n",
    "    return include\n",
    "\n",
    "@include_print_hello\n",
    "def print_text(text):\n",
    "    print(text)\n",
    "\n",
    "print_text(\"hello world\")"
   ]
  },
  {
   "cell_type": "markdown",
   "id": "f413a40b",
   "metadata": {},
   "source": [
    "### 装饰器 @Decorator (装饰器含参)"
   ]
  },
  {
   "cell_type": "code",
   "execution_count": 18,
   "id": "72989975",
   "metadata": {},
   "outputs": [
    {
     "name": "stdout",
     "output_type": "stream",
     "text": [
      "***********\n",
      "hello\n",
      "hello world\n",
      "***********\n"
     ]
    }
   ],
   "source": [
    "def include_print_hello(msg = \"No hellow\"):\n",
    "    def decorator(func):\n",
    "        def include(*args,**kwagrgs):\n",
    "            print('***********')\n",
    "            print(msg)\n",
    "            func(*args,**kwagrgs)\n",
    "            print('***********')\n",
    "        return include\n",
    "    return decorator\n",
    "\n",
    "@include_print_hello(msg = \"hello\")\n",
    "def print_text(text):\n",
    "    print(text)\n",
    "\n",
    "print_text(\"hello world\")"
   ]
  },
  {
   "cell_type": "markdown",
   "id": "3fb2ac65",
   "metadata": {},
   "source": [
    "## 类 "
   ]
  },
  {
   "cell_type": "markdown",
   "id": "cc415f2d",
   "metadata": {},
   "source": [
    "### 类的定义\n",
    ">定义类时:  \n",
    ">> 通过 \\_\\_new\\_\\_()方法创建一个对象，一般无需定义该方法，python自动创建  \n",
    ">> 通过 \\_\\_init\\_\\_()方法，初始化创建的对象，即给实例化属性赋值  \n",
    "\n",
    ">创建实例时:  \n",
    ">> 将实例指向创建对象id"
   ]
  },
  {
   "cell_type": "code",
   "execution_count": 19,
   "id": "12f5aca1",
   "metadata": {},
   "outputs": [
    {
     "name": "stdout",
     "output_type": "stream",
     "text": [
      "努力上班\n"
     ]
    }
   ],
   "source": [
    "# 定义类时，类名一般大写，多个单词采取驼峰原则\n",
    "class Peoples:\n",
    "    # slef指刚创建好的实例对象,且必须为第一个参数\n",
    "    # self名字可随意更改，但一般遵守惯例叫self\n",
    "    def __init__(self,name,age):\n",
    "        # 初始化实例属性\n",
    "        self.name = name \n",
    "        self.age  = age\n",
    "    # 方法:类里面的函数\n",
    "    def work(self):\n",
    "        print(\"努力上班\")\n",
    "\n",
    "# 创建实例\n",
    "p1 = Peoples('小明',33)\n",
    "# 访问实例属性\n",
    "#print(p1.name,p1.age)\n",
    "# 更改实例属性,,实例属性从属于实例对象\n",
    "p1.age = 34\n",
    "# 调用实例方法，解释器实际翻译Peoples.work(p1)\n",
    "p1.work()"
   ]
  },
  {
   "cell_type": "markdown",
   "id": "c445096c",
   "metadata": {},
   "source": [
    "### 类也是对象"
   ]
  },
  {
   "cell_type": "code",
   "execution_count": 20,
   "id": "1f1eb66e",
   "metadata": {},
   "outputs": [
    {
     "name": "stdout",
     "output_type": "stream",
     "text": [
      "<class 'type'>\n",
      "<__main__.Peoples object at 0x000001BA319FE850>\n"
     ]
    }
   ],
   "source": [
    "class Peoples:\n",
    "    pass \n",
    "\n",
    "# class 类型 ：type\n",
    "print(type(Peoples))\n",
    "# Peoples id --> people\n",
    "people = Peoples\n",
    "# 创建p1对象\n",
    "p1 = people()\n",
    "print(p1)"
   ]
  },
  {
   "cell_type": "markdown",
   "id": "3bfbd560",
   "metadata": {},
   "source": [
    "### 关于类的一些函数与方法\n",
    "> dir(object) 可以获得类或实例对象的所有属性和方法  \n",
    "> object.\\__dict__  获取实例对象的属性字典  \n",
    "> isinstance(object，class) 判断对象是不是属于指定类"
   ]
  },
  {
   "cell_type": "code",
   "execution_count": 21,
   "id": "1db45c40",
   "metadata": {},
   "outputs": [
    {
     "name": "stdout",
     "output_type": "stream",
     "text": [
      "['__class__', '__delattr__', '__dict__', '__dir__', '__doc__', '__eq__', '__format__', '__ge__', '__getattribute__', '__gt__', '__hash__', '__init__', '__init_subclass__', '__le__', '__lt__', '__module__', '__ne__', '__new__', '__reduce__', '__reduce_ex__', '__repr__', '__setattr__', '__sizeof__', '__str__', '__subclasshook__', '__weakref__', 'work']\n",
      "['__class__', '__delattr__', '__dict__', '__dir__', '__doc__', '__eq__', '__format__', '__ge__', '__getattribute__', '__gt__', '__hash__', '__init__', '__init_subclass__', '__le__', '__lt__', '__module__', '__ne__', '__new__', '__reduce__', '__reduce_ex__', '__repr__', '__setattr__', '__sizeof__', '__str__', '__subclasshook__', '__weakref__', 'age', 'name', 'work']\n",
      "{'name': '小明', 'age': 33}\n",
      "True\n"
     ]
    }
   ],
   "source": [
    "class Peoples:\n",
    "    def __init__(self,name,age):\n",
    "        self.name = name \n",
    "        self.age  = age\n",
    "\n",
    "    def work(self):\n",
    "        print(\"努力上班\")\n",
    "        \n",
    "p1 = Peoples('小明',33)\n",
    "\n",
    "print(dir(Peoples))\n",
    "print(dir(p1))\n",
    "print(p1.__dict__)\n",
    "print(isinstance(p1,Peoples))"
   ]
  },
  {
   "cell_type": "code",
   "execution_count": 22,
   "id": "7a663b5e",
   "metadata": {},
   "outputs": [
    {
     "name": "stdout",
     "output_type": "stream",
     "text": [
      "一共创建了2个Student对象\n"
     ]
    }
   ],
   "source": [
    "class Student:\n",
    "    # 类属性\n",
    "    count = 0 \n",
    "    def __init__(self,name,score):\n",
    "        # 实例属性\n",
    "        self.name = name  \n",
    "        self.score = score\n",
    "        \n",
    "        Student.count += 1\n",
    "        \n",
    "    def print_score(self):\n",
    "        print(f\"{self.name}的分数是:{self.score}\")\n",
    "\n",
    "s1 = Student('张三',70)\n",
    "s2 = Student('李四',66)\n",
    "print(f\"一共创建了{Student.count}个Student对象\")"
   ]
  },
  {
   "cell_type": "markdown",
   "id": "210746dc",
   "metadata": {},
   "source": [
    "### 类的装饰器"
   ]
  },
  {
   "cell_type": "code",
   "execution_count": 23,
   "id": "64d04801",
   "metadata": {},
   "outputs": [
    {
     "name": "stdout",
     "output_type": "stream",
     "text": [
      "xx学校\n",
      "10 20\n"
     ]
    }
   ],
   "source": [
    "# @装饰器 \n",
    "# 类方法与静态方法不能调用实例对象与实例方法\n",
    "\n",
    "\n",
    "# 类方法\n",
    "class Student:\n",
    "    school = 'xx学校'\n",
    "    # 装饰器：类方法\n",
    "    # @classmethod 必须位于方法上面一行字\n",
    "    # 第一个参数必须为cls,类似self\n",
    "    @classmethod\n",
    "    def print_school(cls):\n",
    "        print(cls.school)\n",
    "\n",
    "Student.print_school()\n",
    "\n",
    "# 静态方法\n",
    "# python允许定义与“类对象”无关的方法，即“静态方法\"\n",
    "class Student:\n",
    "    school = 'xx学校'\n",
    "    # 装饰器：静态方法\n",
    "    # @staticmethod \n",
    "    # 第一个参数不必为cls\n",
    "    @staticmethod\n",
    "    def print_ab(a,b):\n",
    "        print(a,b)\n",
    "Student.print_ab(10,20)"
   ]
  },
  {
   "cell_type": "markdown",
   "id": "280e7e1f",
   "metadata": {},
   "source": [
    "### 析构函数(方法)    \n",
    "\\__del__方法称为析构方法，用于实现对象被销毁所需的操作。比如释放对象占用的资源，例如：打开的文件资源、网络连接等。  \n",
    "python 实现自动的垃圾回收，当对象没有被引用时（引用计数为0），由垃圾回收器调用\\__del__方法   \n",
    "我们也可以通过del语句删除对象，从而保证调用\\__del__方法  \n",
    "系统会自动提供\\__del__方法，一般不需要自定义析构方法 "
   ]
  },
  {
   "cell_type": "code",
   "execution_count": 24,
   "id": "94dfb98e",
   "metadata": {},
   "outputs": [
    {
     "name": "stdout",
     "output_type": "stream",
     "text": [
      "销毁对象<__main__.Person object at 0x000001BA319FE310>\n"
     ]
    }
   ],
   "source": [
    "# 自定义析构方法,用于测试\n",
    "class Person:\n",
    "    \n",
    "    def __del__(self):\n",
    "        print(f\"销毁对象{self}\")\n",
    "\n",
    "p1 = Person()\n",
    "\n",
    "del p1"
   ]
  },
  {
   "cell_type": "markdown",
   "id": "2a299472",
   "metadata": {},
   "source": [
    "### \\__call__方法\n",
    "定义了\\__call__方法的对象，称为“可调用对象\",即该对象可以像函数被调用"
   ]
  },
  {
   "cell_type": "code",
   "execution_count": 25,
   "id": "5a221982",
   "metadata": {},
   "outputs": [
    {
     "name": "stdout",
     "output_type": "stream",
     "text": [
      "测试__call__\n"
     ]
    },
    {
     "data": {
      "text/plain": [
       "'Test __call__'"
      ]
     },
     "execution_count": 25,
     "metadata": {},
     "output_type": "execute_result"
    }
   ],
   "source": [
    "class CallTest:\n",
    "    \n",
    "    def __call__(self):\n",
    "        print('测试__call__')\n",
    "        return 'Test __call__'\n",
    "s = CallTest()\n",
    "s()"
   ]
  },
  {
   "cell_type": "markdown",
   "id": "74b9ff32",
   "metadata": {},
   "source": [
    "### python方法中没有重载\n",
    "如果我们在类中定义了多个重名的方法，只有最后一个方法有效"
   ]
  },
  {
   "cell_type": "code",
   "execution_count": 26,
   "id": "615c7a62",
   "metadata": {},
   "outputs": [
    {
     "name": "stdout",
     "output_type": "stream",
     "text": [
      "hello world\n"
     ]
    }
   ],
   "source": [
    "class PrintNum:\n",
    "    \n",
    "    def num(self):\n",
    "        print('hello')\n",
    "    \n",
    "    def num(self):\n",
    "        print('hello world')\n",
    "\n",
    "n1 = PrintNum()\n",
    "n1.num()"
   ]
  },
  {
   "cell_type": "markdown",
   "id": "836044e4",
   "metadata": {},
   "source": [
    "### 方法的动态性\n",
    "python是动态语言，我们可以动态的为类添加新的方法，或者动态的修改已有的方法"
   ]
  },
  {
   "cell_type": "code",
   "execution_count": 27,
   "id": "c59f1600",
   "metadata": {},
   "outputs": [
    {
     "name": "stdout",
     "output_type": "stream",
     "text": [
      "<__main__.People object at 0x000001BA319FE160>在玩游戏\n",
      "努力上班\n",
      "上班摸鱼\n"
     ]
    }
   ],
   "source": [
    "class People:\n",
    "    \n",
    "    def work(self):\n",
    "        print(\"努力上班\")\n",
    "\n",
    "def play_game(obj):\n",
    "    print(f\"{obj}在玩游戏\")\n",
    "\n",
    "def work2(obj):\n",
    "    print(\"上班摸鱼\")\n",
    "    \n",
    "# 动态为类添加新方法\n",
    "People.play_game = play_game\n",
    "\n",
    "people = People()\n",
    "people.play_game()\n",
    "\n",
    "# 动态修改已有方法\n",
    "people.work()\n",
    "People.work = work2\n",
    "people.work()"
   ]
  }
 ],
 "metadata": {
  "kernelspec": {
   "display_name": "Python 3",
   "language": "python",
   "name": "python3"
  },
  "language_info": {
   "codemirror_mode": {
    "name": "ipython",
    "version": 3
   },
   "file_extension": ".py",
   "mimetype": "text/x-python",
   "name": "python",
   "nbconvert_exporter": "python",
   "pygments_lexer": "ipython3",
   "version": "3.8.8"
  }
 },
 "nbformat": 4,
 "nbformat_minor": 5
}
