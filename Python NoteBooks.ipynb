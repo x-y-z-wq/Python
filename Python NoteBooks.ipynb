{
 "cells": [
  {
   "cell_type": "markdown",
   "id": "087cd12d",
   "metadata": {},
   "source": [
    "## Python 下载 \n",
    "![title](PythonPicture/2022-01-08_165816.png) "
   ]
  },
  {
   "cell_type": "markdown",
   "id": "1eada443",
   "metadata": {},
   "source": [
    "## Python 安装\n",
    "![title](PythonPicture/2022-01-08_173633.png) \n",
    "![title](PythonPicture/2022-01-08_173722.png) \n",
    "![title](PythonPicture/2022-01-08_173852.png)\n",
    "![title](PythonPicture/2022-01-08_173955.png) "
   ]
  },
  {
   "cell_type": "markdown",
   "id": "c30a7d70",
   "metadata": {},
   "source": [
    "## 函数"
   ]
  },
  {
   "cell_type": "markdown",
   "id": "7735b862",
   "metadata": {},
   "source": [
    "### 函数定义"
   ]
  },
  {
   "cell_type": "code",
   "execution_count": 1,
   "id": "aff60d5c",
   "metadata": {},
   "outputs": [],
   "source": [
    "def print_hello_world():\n",
    "    print('************')\n",
    "    print('Hello World!')\n",
    "    print('************')"
   ]
  },
  {
   "cell_type": "markdown",
   "id": "999a6a47",
   "metadata": {},
   "source": [
    "### 函数调用"
   ]
  },
  {
   "cell_type": "code",
   "execution_count": 2,
   "id": "2b1d5496",
   "metadata": {},
   "outputs": [
    {
     "name": "stdout",
     "output_type": "stream",
     "text": [
      "************\n",
      "Hello World!\n",
      "************\n"
     ]
    }
   ],
   "source": [
    "print_hello_world()"
   ]
  },
  {
   "cell_type": "markdown",
   "id": "6fe7c06c",
   "metadata": {},
   "source": [
    "### 函数是对象"
   ]
  },
  {
   "cell_type": "code",
   "execution_count": 3,
   "id": "7df27f7b",
   "metadata": {},
   "outputs": [
    {
     "name": "stdout",
     "output_type": "stream",
     "text": [
      "1899207350304\n",
      "<function print_hello_world at 0x000001BA31945820>\n",
      "<class 'function'>\n",
      "************\n",
      "Hello World!\n",
      "************\n"
     ]
    }
   ],
   "source": [
    "print(id(print_hello_world))\n",
    "print(print_hello_world)\n",
    "print(type(print_hello_world))\n",
    "a = print_hello_world\n",
    "a()"
   ]
  },
  {
   "cell_type": "markdown",
   "id": "7f048f73",
   "metadata": {},
   "source": [
    "### 文档字符串:函数说明"
   ]
  },
  {
   "cell_type": "code",
   "execution_count": 4,
   "id": "4dce87cd",
   "metadata": {},
   "outputs": [
    {
     "name": "stdout",
     "output_type": "stream",
     "text": [
      "No Python documentation found for '此函数用于打印传入参数'.\n",
      "Use help() to get the interactive help utility.\n",
      "Use help(str) for help on the str class.\n",
      "\n",
      "None\n",
      "Help on function print_param in module __main__:\n",
      "\n",
      "print_param(param1, param2)\n",
      "    此函数用于打印传入参数\n",
      "\n",
      "None\n"
     ]
    }
   ],
   "source": [
    "def print_param(param1,param2):\n",
    "    \"\"\"此函数用于打印传入参数\"\"\"\n",
    "    print(param1 * len(param2))\n",
    "    print(param2)\n",
    "    print(param1 * len(param2))\n",
    "\n",
    "\n",
    "print(help(print_param.__doc__))\n",
    "print(help(print_param))"
   ]
  },
  {
   "cell_type": "markdown",
   "id": "ce840ec1",
   "metadata": {},
   "source": [
    "### 形参与实参\n",
    "> 形参 定义函数时使用的参数  \n",
    "> 实参 调用函数时使用的参数"
   ]
  },
  {
   "cell_type": "code",
   "execution_count": 5,
   "id": "7e0b9f23",
   "metadata": {},
   "outputs": [
    {
     "name": "stdout",
     "output_type": "stream",
     "text": [
      "--------------\n",
      "This is Params\n",
      "--------------\n"
     ]
    }
   ],
   "source": [
    "def print_param(param1,param2):\n",
    "    print(param1 * len(param2))\n",
    "    print(param2)\n",
    "    print(param1 * len(param2))\n",
    "\n",
    "\n",
    "print_param('-','This is Params')"
   ]
  },
  {
   "cell_type": "markdown",
   "id": "87e1156e",
   "metadata": {},
   "source": [
    "### 函数返回值\n",
    "> 函数体包含return,结束函数执行并返回值  \n",
    "> 函数体不包含return,返回None"
   ]
  },
  {
   "cell_type": "code",
   "execution_count": 6,
   "id": "e7896fc8",
   "metadata": {},
   "outputs": [
    {
     "name": "stdout",
     "output_type": "stream",
     "text": [
      "5.0\n"
     ]
    }
   ],
   "source": [
    "def three_90(a,b):\n",
    "    \"\"\"直角三角形计算斜边\"\"\"\n",
    "    k =(a**2 + b**2)**0.5\n",
    "    return k\n",
    "    print(\"return 以后不执行此句\")\n",
    "    \n",
    "c= three_90(3,4)\n",
    "print(c)"
   ]
  },
  {
   "cell_type": "code",
   "execution_count": 7,
   "id": "7d8bd2a0",
   "metadata": {},
   "outputs": [
    {
     "name": "stdout",
     "output_type": "stream",
     "text": [
      "************\n",
      "Hello World!\n",
      "************\n",
      "None\n"
     ]
    }
   ],
   "source": [
    "def print_hello_world():\n",
    "    print('************')\n",
    "    print('Hello World!')\n",
    "    print('************')\n",
    "    return \n",
    "    print(\"return 以后不执行此句\")\n",
    "c = print_hello_world()\n",
    "print(c)"
   ]
  },
  {
   "cell_type": "markdown",
   "id": "78410de5",
   "metadata": {},
   "source": [
    "### 全局变量:在函数和类定义之外声明的变量  "
   ]
  },
  {
   "cell_type": "code",
   "execution_count": 8,
   "id": "43a9281f",
   "metadata": {},
   "outputs": [
    {
     "name": "stdout",
     "output_type": "stream",
     "text": [
      "5.0\n",
      "a是全局变量,可作用于函数内\n"
     ]
    }
   ],
   "source": [
    "def three_90():\n",
    "    \"\"\"直角三角形计算斜边\"\"\"\n",
    "    b = 4\n",
    "    k =(a**2 + b**2)**0.5\n",
    "    return k\n",
    "    \n",
    "a = 3\n",
    "print(three_90())\n",
    "print('a是全局变量,可作用于函数内')"
   ]
  },
  {
   "cell_type": "markdown",
   "id": "0fb965d0",
   "metadata": {},
   "source": [
    "### 局部变量:在函数体声明的变量 \n",
    "> 函数外部无法访问局部变量"
   ]
  },
  {
   "cell_type": "code",
   "execution_count": 9,
   "id": "2c262c9f",
   "metadata": {},
   "outputs": [
    {
     "name": "stdout",
     "output_type": "stream",
     "text": [
      "5.0\n",
      "b是全局变量,函数外部无法访问\n"
     ]
    },
    {
     "ename": "NameError",
     "evalue": "name 'b' is not defined",
     "output_type": "error",
     "traceback": [
      "\u001b[1;31m---------------------------------------------------------------------------\u001b[0m",
      "\u001b[1;31mNameError\u001b[0m                                 Traceback (most recent call last)",
      "\u001b[1;32m<ipython-input-9-db8cc80537ac>\u001b[0m in \u001b[0;36m<module>\u001b[1;34m\u001b[0m\n\u001b[0;32m      8\u001b[0m \u001b[0mprint\u001b[0m\u001b[1;33m(\u001b[0m\u001b[0mthree_90\u001b[0m\u001b[1;33m(\u001b[0m\u001b[1;33m)\u001b[0m\u001b[1;33m)\u001b[0m\u001b[1;33m\u001b[0m\u001b[1;33m\u001b[0m\u001b[0m\n\u001b[0;32m      9\u001b[0m \u001b[0mprint\u001b[0m\u001b[1;33m(\u001b[0m\u001b[1;34m'b是全局变量,函数外部无法访问'\u001b[0m\u001b[1;33m)\u001b[0m\u001b[1;33m\u001b[0m\u001b[1;33m\u001b[0m\u001b[0m\n\u001b[1;32m---> 10\u001b[1;33m \u001b[0mprint\u001b[0m\u001b[1;33m(\u001b[0m\u001b[0mb\u001b[0m\u001b[1;33m)\u001b[0m\u001b[1;33m\u001b[0m\u001b[1;33m\u001b[0m\u001b[0m\n\u001b[0m",
      "\u001b[1;31mNameError\u001b[0m: name 'b' is not defined"
     ]
    }
   ],
   "source": [
    "def three_90():\n",
    "    \"\"\"直角三角形计算斜边\"\"\"\n",
    "    b = 4\n",
    "    k =(a**2 + b**2)**0.5\n",
    "    return k\n",
    "    \n",
    "a = 3\n",
    "print(three_90())\n",
    "print('b是全局变量,函数外部无法访问')\n",
    "print(b)"
   ]
  },
  {
   "cell_type": "markdown",
   "id": "7dd81d31",
   "metadata": {},
   "source": [
    "### 如果全局变量和局部变量同名，函数内部优先使用局部变  "
   ]
  },
  {
   "cell_type": "code",
   "execution_count": 10,
   "id": "76d3fef7",
   "metadata": {},
   "outputs": [
    {
     "name": "stdout",
     "output_type": "stream",
     "text": [
      "5.0\n",
      "999\n"
     ]
    }
   ],
   "source": [
    "def three_90():\n",
    "    \"\"\"直角三角形计算斜边\"\"\"\n",
    "    a,b = 3,4\n",
    "    k =(a**2 + b**2)**0.5\n",
    "    return k\n",
    "    \n",
    "a = 999\n",
    "print(three_90())\n",
    "print(a)"
   ]
  },
  {
   "cell_type": "markdown",
   "id": "d39c1ba3",
   "metadata": {},
   "source": [
    "### global:用于将局部变量转全局变量"
   ]
  },
  {
   "cell_type": "code",
   "execution_count": 11,
   "id": "8eebbb6d",
   "metadata": {},
   "outputs": [
    {
     "name": "stdout",
     "output_type": "stream",
     "text": [
      "5.0\n",
      "3\n"
     ]
    }
   ],
   "source": [
    "def three_90():\n",
    "    \"\"\"直角三角形计算斜边\"\"\"\n",
    "    global a\n",
    "    a,b = 3,4\n",
    "    k =(a**2 + b**2)**0.5\n",
    "    return k\n",
    "    \n",
    "a = 999\n",
    "print(three_90())\n",
    "print(a)"
   ]
  },
  {
   "cell_type": "markdown",
   "id": "54757056",
   "metadata": {},
   "source": [
    "### 获取函数内部的局部变量与全局变量\n",
    "> 获取局部变量 locals()  \n",
    "> 获取全局变量 globals() "
   ]
  },
  {
   "cell_type": "code",
   "execution_count": 12,
   "id": "32593e90",
   "metadata": {},
   "outputs": [
    {
     "name": "stdout",
     "output_type": "stream",
     "text": [
      "{'a': 3, 'b': 4, 'k': 5.0}\n",
      "{'__name__': '__main__', '__doc__': 'Automatically created module for IPython interactive environment', '__package__': None, '__loader__': None, '__spec__': None, '__builtin__': <module 'builtins' (built-in)>, '__builtins__': <module 'builtins' (built-in)>, '_ih': ['', \"def print_hello_world():\\n    print('************')\\n    print('Hello World!')\\n    print('************')\", 'print_hello_world()', 'print(id(print_hello_world))\\nprint(print_hello_world)\\nprint(type(print_hello_world))\\na = print_hello_world\\na()', 'def print_param(param1,param2):\\n    \"\"\"此函数用于打印传入参数\"\"\"\\n    print(param1 * len(param2))\\n    print(param2)\\n    print(param1 * len(param2))\\n\\n\\nprint(help(print_param.__doc__))\\nprint(help(print_param))', \"def print_param(param1,param2):\\n    print(param1 * len(param2))\\n    print(param2)\\n    print(param1 * len(param2))\\n\\n\\nprint_param('-','This is Params')\", 'def three_90(a,b):\\n    \"\"\"直角三角形计算斜边\"\"\"\\n    k =(a**2 + b**2)**0.5\\n    return k\\n    print(\"return 以后不执行此句\")\\n    \\nc= three_90(3,4)\\nprint(c)', 'def print_hello_world():\\n    print(\\'************\\')\\n    print(\\'Hello World!\\')\\n    print(\\'************\\')\\n    return \\n    print(\"return 以后不执行此句\")\\nc = print_hello_world()\\nprint(c)', 'def three_90():\\n    \"\"\"直角三角形计算斜边\"\"\"\\n    b = 4\\n    k =(a**2 + b**2)**0.5\\n    return k\\n    \\na = 3\\nprint(three_90())\\nprint(\\'a是全局变量,可作用于函数内\\')', 'def three_90():\\n    \"\"\"直角三角形计算斜边\"\"\"\\n    b = 4\\n    k =(a**2 + b**2)**0.5\\n    return k\\n    \\na = 3\\nprint(three_90())\\nprint(\\'b是全局变量,函数外部无法访问\\')\\nprint(b)', 'def three_90():\\n    \"\"\"直角三角形计算斜边\"\"\"\\n    a,b = 3,4\\n    k =(a**2 + b**2)**0.5\\n    return k\\n    \\na = 999\\nprint(three_90())\\nprint(a)', 'def three_90():\\n    \"\"\"直角三角形计算斜边\"\"\"\\n    global a\\n    a,b = 3,4\\n    k =(a**2 + b**2)**0.5\\n    return k\\n    \\na = 999\\nprint(three_90())\\nprint(a)', 'def three_90():\\n    \"\"\"直角三角形计算斜边\"\"\"\\n    a,b = 3,4\\n    k =(a**2 + b**2)**0.5\\n    print(locals())\\n    print(globals())\\n    return k\\n    \\na = 999\\nprint(three_90())'], '_oh': {}, '_dh': ['C:\\\\Users\\\\86182\\\\Desktop\\\\NoteBooks\\\\Python Notebooks'], 'In': ['', \"def print_hello_world():\\n    print('************')\\n    print('Hello World!')\\n    print('************')\", 'print_hello_world()', 'print(id(print_hello_world))\\nprint(print_hello_world)\\nprint(type(print_hello_world))\\na = print_hello_world\\na()', 'def print_param(param1,param2):\\n    \"\"\"此函数用于打印传入参数\"\"\"\\n    print(param1 * len(param2))\\n    print(param2)\\n    print(param1 * len(param2))\\n\\n\\nprint(help(print_param.__doc__))\\nprint(help(print_param))', \"def print_param(param1,param2):\\n    print(param1 * len(param2))\\n    print(param2)\\n    print(param1 * len(param2))\\n\\n\\nprint_param('-','This is Params')\", 'def three_90(a,b):\\n    \"\"\"直角三角形计算斜边\"\"\"\\n    k =(a**2 + b**2)**0.5\\n    return k\\n    print(\"return 以后不执行此句\")\\n    \\nc= three_90(3,4)\\nprint(c)', 'def print_hello_world():\\n    print(\\'************\\')\\n    print(\\'Hello World!\\')\\n    print(\\'************\\')\\n    return \\n    print(\"return 以后不执行此句\")\\nc = print_hello_world()\\nprint(c)', 'def three_90():\\n    \"\"\"直角三角形计算斜边\"\"\"\\n    b = 4\\n    k =(a**2 + b**2)**0.5\\n    return k\\n    \\na = 3\\nprint(three_90())\\nprint(\\'a是全局变量,可作用于函数内\\')', 'def three_90():\\n    \"\"\"直角三角形计算斜边\"\"\"\\n    b = 4\\n    k =(a**2 + b**2)**0.5\\n    return k\\n    \\na = 3\\nprint(three_90())\\nprint(\\'b是全局变量,函数外部无法访问\\')\\nprint(b)', 'def three_90():\\n    \"\"\"直角三角形计算斜边\"\"\"\\n    a,b = 3,4\\n    k =(a**2 + b**2)**0.5\\n    return k\\n    \\na = 999\\nprint(three_90())\\nprint(a)', 'def three_90():\\n    \"\"\"直角三角形计算斜边\"\"\"\\n    global a\\n    a,b = 3,4\\n    k =(a**2 + b**2)**0.5\\n    return k\\n    \\na = 999\\nprint(three_90())\\nprint(a)', 'def three_90():\\n    \"\"\"直角三角形计算斜边\"\"\"\\n    a,b = 3,4\\n    k =(a**2 + b**2)**0.5\\n    print(locals())\\n    print(globals())\\n    return k\\n    \\na = 999\\nprint(three_90())'], 'Out': {}, 'get_ipython': <bound method InteractiveShell.get_ipython of <ipykernel.zmqshell.ZMQInteractiveShell object at 0x000001BA3184F5B0>>, 'exit': <IPython.core.autocall.ZMQExitAutocall object at 0x000001BA318F2CD0>, 'quit': <IPython.core.autocall.ZMQExitAutocall object at 0x000001BA318F2CD0>, '_': '', '__': '', '___': '', '_i': 'def three_90():\\n    \"\"\"直角三角形计算斜边\"\"\"\\n    global a\\n    a,b = 3,4\\n    k =(a**2 + b**2)**0.5\\n    return k\\n    \\na = 999\\nprint(three_90())\\nprint(a)', '_ii': 'def three_90():\\n    \"\"\"直角三角形计算斜边\"\"\"\\n    a,b = 3,4\\n    k =(a**2 + b**2)**0.5\\n    return k\\n    \\na = 999\\nprint(three_90())\\nprint(a)', '_iii': 'def three_90():\\n    \"\"\"直角三角形计算斜边\"\"\"\\n    b = 4\\n    k =(a**2 + b**2)**0.5\\n    return k\\n    \\na = 3\\nprint(three_90())\\nprint(\\'b是全局变量,函数外部无法访问\\')\\nprint(b)', '_i1': \"def print_hello_world():\\n    print('************')\\n    print('Hello World!')\\n    print('************')\", 'print_hello_world': <function print_hello_world at 0x000001BA31945430>, '_i2': 'print_hello_world()', '_i3': 'print(id(print_hello_world))\\nprint(print_hello_world)\\nprint(type(print_hello_world))\\na = print_hello_world\\na()', 'a': 999, '_i4': 'def print_param(param1,param2):\\n    \"\"\"此函数用于打印传入参数\"\"\"\\n    print(param1 * len(param2))\\n    print(param2)\\n    print(param1 * len(param2))\\n\\n\\nprint(help(print_param.__doc__))\\nprint(help(print_param))', 'print_param': <function print_param at 0x000001BA319458B0>, '_i5': \"def print_param(param1,param2):\\n    print(param1 * len(param2))\\n    print(param2)\\n    print(param1 * len(param2))\\n\\n\\nprint_param('-','This is Params')\", '_i6': 'def three_90(a,b):\\n    \"\"\"直角三角形计算斜边\"\"\"\\n    k =(a**2 + b**2)**0.5\\n    return k\\n    print(\"return 以后不执行此句\")\\n    \\nc= three_90(3,4)\\nprint(c)', 'three_90': <function three_90 at 0x000001BA31922C10>, 'c': None, '_i7': 'def print_hello_world():\\n    print(\\'************\\')\\n    print(\\'Hello World!\\')\\n    print(\\'************\\')\\n    return \\n    print(\"return 以后不执行此句\")\\nc = print_hello_world()\\nprint(c)', '_i8': 'def three_90():\\n    \"\"\"直角三角形计算斜边\"\"\"\\n    b = 4\\n    k =(a**2 + b**2)**0.5\\n    return k\\n    \\na = 3\\nprint(three_90())\\nprint(\\'a是全局变量,可作用于函数内\\')', '_i9': 'def three_90():\\n    \"\"\"直角三角形计算斜边\"\"\"\\n    b = 4\\n    k =(a**2 + b**2)**0.5\\n    return k\\n    \\na = 3\\nprint(three_90())\\nprint(\\'b是全局变量,函数外部无法访问\\')\\nprint(b)', '_i10': 'def three_90():\\n    \"\"\"直角三角形计算斜边\"\"\"\\n    a,b = 3,4\\n    k =(a**2 + b**2)**0.5\\n    return k\\n    \\na = 999\\nprint(three_90())\\nprint(a)', '_i11': 'def three_90():\\n    \"\"\"直角三角形计算斜边\"\"\"\\n    global a\\n    a,b = 3,4\\n    k =(a**2 + b**2)**0.5\\n    return k\\n    \\na = 999\\nprint(three_90())\\nprint(a)', '_i12': 'def three_90():\\n    \"\"\"直角三角形计算斜边\"\"\"\\n    a,b = 3,4\\n    k =(a**2 + b**2)**0.5\\n    print(locals())\\n    print(globals())\\n    return k\\n    \\na = 999\\nprint(three_90())'}\n",
      "5.0\n"
     ]
    }
   ],
   "source": [
    "def three_90():\n",
    "    \"\"\"直角三角形计算斜边\"\"\"\n",
    "    a,b = 3,4\n",
    "    k =(a**2 + b**2)**0.5\n",
    "    print(locals())\n",
    "    print(globals())\n",
    "    return k\n",
    "    \n",
    "a = 999\n",
    "print(three_90())"
   ]
  },
  {
   "cell_type": "markdown",
   "id": "42349196",
   "metadata": {},
   "source": [
    "### 局部变量查询、访问效率比全局变量高"
   ]
  },
  {
   "cell_type": "code",
   "execution_count": 13,
   "id": "caf42742",
   "metadata": {},
   "outputs": [
    {
     "name": "stdout",
     "output_type": "stream",
     "text": [
      "耗时1.288754940032959\n",
      "耗时1.3186156749725342\n"
     ]
    }
   ],
   "source": [
    "import time \n",
    "\n",
    "def sum_1_10n(sum=0):\n",
    "    a = 1\n",
    "    start = time.time()\n",
    "    \"\"\"计算1~10**7之和\"\"\"\n",
    "    for i in range(10**7):\n",
    "        sum  += i * a\n",
    "    end = time.time()\n",
    "    print(f\"耗时{end-start}\")\n",
    "\n",
    "def sum_1_10n_global(sum=0):\n",
    "    start = time.time()\n",
    "    \"\"\"计算1~10**7之和\"\"\"\n",
    "    global a \n",
    "    for i in range(10**7):\n",
    "        sum  += i * a\n",
    "    end = time.time()\n",
    "    print(f\"耗时{end-start}\")\n",
    "\n",
    "a = 1 \n",
    "sum_1_10n()\n",
    "sum_1_10n_global()"
   ]
  },
  {
   "cell_type": "markdown",
   "id": "759fc272",
   "metadata": {},
   "source": [
    "### 传递可变对象的引用 (列表、字典等)"
   ]
  },
  {
   "cell_type": "code",
   "execution_count": 14,
   "id": "42b6adef",
   "metadata": {},
   "outputs": [
    {
     "name": "stdout",
     "output_type": "stream",
     "text": [
      "1899207256128\n",
      "1899207256128\n",
      "[10, 20, 30]\n"
     ]
    }
   ],
   "source": [
    "def addlist(param1):\n",
    "    print(id(param1))\n",
    "    param1.append(30)\n",
    "    \n",
    "lista = [10,20]\n",
    "addlist(lista)\n",
    "print(id(lista))\n",
    "print(lista)"
   ]
  },
  {
   "cell_type": "markdown",
   "id": "37ee8d99",
   "metadata": {},
   "source": [
    "### 传递不可变对象 (字符串、数字、元组等)"
   ]
  },
  {
   "cell_type": "code",
   "execution_count": 15,
   "id": "5068fd3b",
   "metadata": {},
   "outputs": [
    {
     "name": "stdout",
     "output_type": "stream",
     "text": [
      "140728382072688\n",
      "140728382072720\n",
      "4\n",
      "140728382072688\n"
     ]
    }
   ],
   "source": [
    "def addint(param1):\n",
    "    print(id(param1))      # 传递stra对象地址\n",
    "    param1 += 1            # 由于stra是不可变对象，因此创建新对象\n",
    "    print(id(param1))      # 已经变成新对象\n",
    "    print(param1)\n",
    "\n",
    "inta = 3 \n",
    "addint(3)\n",
    "print(id(inta))"
   ]
  },
  {
   "cell_type": "markdown",
   "id": "7ef3638a",
   "metadata": {},
   "source": [
    "### 装饰器 @Decorator"
   ]
  },
  {
   "cell_type": "code",
   "execution_count": 16,
   "id": "58baef13",
   "metadata": {},
   "outputs": [
    {
     "name": "stdout",
     "output_type": "stream",
     "text": [
      "***********\n",
      "hello world\n",
      "***********\n"
     ]
    }
   ],
   "source": [
    "def include_print_hello(func):\n",
    "    def include():\n",
    "        print('***********')\n",
    "        func()\n",
    "        print('***********')\n",
    "    return include\n",
    "\n",
    "@include_print_hello\n",
    "def print_hello():\n",
    "    print(\"hello world\")\n",
    "\n",
    "print_hello()"
   ]
  },
  {
   "cell_type": "markdown",
   "id": "4a72af20",
   "metadata": {},
   "source": [
    "### 装饰器 @Decorator (函数含参)"
   ]
  },
  {
   "cell_type": "code",
   "execution_count": 17,
   "id": "cd832261",
   "metadata": {},
   "outputs": [
    {
     "name": "stdout",
     "output_type": "stream",
     "text": [
      "***********\n",
      "hello world\n",
      "***********\n"
     ]
    }
   ],
   "source": [
    "def include_print_hello(func):\n",
    "    def include(*args,**kwagrgs):\n",
    "        print('***********')\n",
    "        func(*args,**kwagrgs)\n",
    "        print('***********')\n",
    "    return include\n",
    "\n",
    "@include_print_hello\n",
    "def print_text(text):\n",
    "    print(text)\n",
    "\n",
    "print_text(\"hello world\")"
   ]
  },
  {
   "cell_type": "markdown",
   "id": "f413a40b",
   "metadata": {},
   "source": [
    "### 装饰器 @Decorator (装饰器含参)"
   ]
  },
  {
   "cell_type": "code",
   "execution_count": 18,
   "id": "72989975",
   "metadata": {},
   "outputs": [
    {
     "name": "stdout",
     "output_type": "stream",
     "text": [
      "***********\n",
      "hello\n",
      "hello world\n",
      "***********\n"
     ]
    }
   ],
   "source": [
    "def include_print_hello(msg = \"No hellow\"):\n",
    "    def decorator(func):\n",
    "        def include(*args,**kwagrgs):\n",
    "            print('***********')\n",
    "            print(msg)\n",
    "            func(*args,**kwagrgs)\n",
    "            print('***********')\n",
    "        return include\n",
    "    return decorator\n",
    "\n",
    "@include_print_hello(msg = \"hello\")\n",
    "def print_text(text):\n",
    "    print(text)\n",
    "\n",
    "print_text(\"hello world\")"
   ]
  },
  {
   "cell_type": "markdown",
   "id": "3fb2ac65",
   "metadata": {},
   "source": [
    "## 类 "
   ]
  },
  {
   "cell_type": "markdown",
   "id": "cc415f2d",
   "metadata": {},
   "source": [
    "### 类的定义\n",
    ">定义类时:  \n",
    ">> 通过 \\_\\_new\\_\\_()方法创建一个对象，一般无需定义该方法，python自动创建  \n",
    ">> 通过 \\_\\_init\\_\\_()方法，初始化创建的对象，即给实例化属性赋值  \n",
    "\n",
    ">创建实例时:  \n",
    ">> 将实例指向创建对象id"
   ]
  },
  {
   "cell_type": "code",
   "execution_count": 19,
   "id": "12f5aca1",
   "metadata": {},
   "outputs": [
    {
     "name": "stdout",
     "output_type": "stream",
     "text": [
      "努力上班\n"
     ]
    }
   ],
   "source": [
    "# 定义类时，类名一般大写，多个单词采取驼峰原则\n",
    "class Peoples:\n",
    "    # slef指刚创建好的实例对象,且必须为第一个参数\n",
    "    # self名字可随意更改，但一般遵守惯例叫self\n",
    "    def __init__(self,name,age):\n",
    "        # 初始化实例属性\n",
    "        self.name = name \n",
    "        self.age  = age\n",
    "    # 方法:类里面的函数\n",
    "    def work(self):\n",
    "        print(\"努力上班\")\n",
    "\n",
    "# 创建实例\n",
    "p1 = Peoples('小明',33)\n",
    "# 访问实例属性\n",
    "#print(p1.name,p1.age)\n",
    "# 更改实例属性,,实例属性从属于实例对象\n",
    "p1.age = 34\n",
    "# 调用实例方法，解释器实际翻译Peoples.work(p1)\n",
    "p1.work()"
   ]
  },
  {
   "cell_type": "markdown",
   "id": "c445096c",
   "metadata": {},
   "source": [
    "### 类也是对象"
   ]
  },
  {
   "cell_type": "code",
   "execution_count": 20,
   "id": "1f1eb66e",
   "metadata": {},
   "outputs": [
    {
     "name": "stdout",
     "output_type": "stream",
     "text": [
      "<class 'type'>\n",
      "<__main__.Peoples object at 0x000001BA319FE850>\n"
     ]
    }
   ],
   "source": [
    "class Peoples:\n",
    "    pass \n",
    "\n",
    "# class 类型 ：type\n",
    "print(type(Peoples))\n",
    "# Peoples id --> people\n",
    "people = Peoples\n",
    "# 创建p1对象\n",
    "p1 = people()\n",
    "print(p1)"
   ]
  },
  {
   "cell_type": "markdown",
   "id": "3bfbd560",
   "metadata": {},
   "source": [
    "### 关于类的一些函数与方法\n",
    "> dir(object) 可以获得类或实例对象的所有属性和方法  \n",
    "> object.\\__dict__  获取实例对象的属性字典  \n",
    "> isinstance(object，class) 判断对象是不是属于指定类"
   ]
  },
  {
   "cell_type": "code",
   "execution_count": 21,
   "id": "1db45c40",
   "metadata": {},
   "outputs": [
    {
     "name": "stdout",
     "output_type": "stream",
     "text": [
      "['__class__', '__delattr__', '__dict__', '__dir__', '__doc__', '__eq__', '__format__', '__ge__', '__getattribute__', '__gt__', '__hash__', '__init__', '__init_subclass__', '__le__', '__lt__', '__module__', '__ne__', '__new__', '__reduce__', '__reduce_ex__', '__repr__', '__setattr__', '__sizeof__', '__str__', '__subclasshook__', '__weakref__', 'work']\n",
      "['__class__', '__delattr__', '__dict__', '__dir__', '__doc__', '__eq__', '__format__', '__ge__', '__getattribute__', '__gt__', '__hash__', '__init__', '__init_subclass__', '__le__', '__lt__', '__module__', '__ne__', '__new__', '__reduce__', '__reduce_ex__', '__repr__', '__setattr__', '__sizeof__', '__str__', '__subclasshook__', '__weakref__', 'age', 'name', 'work']\n",
      "{'name': '小明', 'age': 33}\n",
      "True\n"
     ]
    }
   ],
   "source": [
    "class Peoples:\n",
    "    def __init__(self,name,age):\n",
    "        self.name = name \n",
    "        self.age  = age\n",
    "\n",
    "    def work(self):\n",
    "        print(\"努力上班\")\n",
    "        \n",
    "p1 = Peoples('小明',33)\n",
    "\n",
    "print(dir(Peoples))\n",
    "print(dir(p1))\n",
    "print(p1.__dict__)\n",
    "print(isinstance(p1,Peoples))"
   ]
  },
  {
   "cell_type": "code",
   "execution_count": 22,
   "id": "7a663b5e",
   "metadata": {},
   "outputs": [
    {
     "name": "stdout",
     "output_type": "stream",
     "text": [
      "一共创建了2个Student对象\n"
     ]
    }
   ],
   "source": [
    "class Student:\n",
    "    # 类属性\n",
    "    count = 0 \n",
    "    def __init__(self,name,score):\n",
    "        # 实例属性\n",
    "        self.name = name  \n",
    "        self.score = score\n",
    "        \n",
    "        Student.count += 1\n",
    "        \n",
    "    def print_score(self):\n",
    "        print(f\"{self.name}的分数是:{self.score}\")\n",
    "\n",
    "s1 = Student('张三',70)\n",
    "s2 = Student('李四',66)\n",
    "print(f\"一共创建了{Student.count}个Student对象\")"
   ]
  },
  {
   "cell_type": "markdown",
   "id": "210746dc",
   "metadata": {},
   "source": [
    "### 类的装饰器"
   ]
  },
  {
   "cell_type": "code",
   "execution_count": 23,
   "id": "64d04801",
   "metadata": {},
   "outputs": [
    {
     "name": "stdout",
     "output_type": "stream",
     "text": [
      "xx学校\n",
      "10 20\n"
     ]
    }
   ],
   "source": [
    "# @装饰器 \n",
    "# 类方法与静态方法不能调用实例对象与实例方法\n",
    "\n",
    "\n",
    "# 类方法\n",
    "class Student:\n",
    "    school = 'xx学校'\n",
    "    # 装饰器：类方法\n",
    "    # @classmethod 必须位于方法上面一行字\n",
    "    # 第一个参数必须为cls,类似self\n",
    "    @classmethod\n",
    "    def print_school(cls):\n",
    "        print(cls.school)\n",
    "\n",
    "Student.print_school()\n",
    "\n",
    "# 静态方法\n",
    "# python允许定义与“类对象”无关的方法，即“静态方法\"\n",
    "class Student:\n",
    "    school = 'xx学校'\n",
    "    # 装饰器：静态方法\n",
    "    # @staticmethod \n",
    "    # 第一个参数不必为cls\n",
    "    @staticmethod\n",
    "    def print_ab(a,b):\n",
    "        print(a,b)\n",
    "Student.print_ab(10,20)"
   ]
  },
  {
   "cell_type": "markdown",
   "id": "280e7e1f",
   "metadata": {},
   "source": [
    "### 析构函数(方法)    \n",
    "\\__del__方法称为析构方法，用于实现对象被销毁所需的操作。比如释放对象占用的资源，例如：打开的文件资源、网络连接等。  \n",
    "python 实现自动的垃圾回收，当对象没有被引用时（引用计数为0），由垃圾回收器调用\\__del__方法   \n",
    "我们也可以通过del语句删除对象，从而保证调用\\__del__方法  \n",
    "系统会自动提供\\__del__方法，一般不需要自定义析构方法 "
   ]
  },
  {
   "cell_type": "code",
   "execution_count": 24,
   "id": "94dfb98e",
   "metadata": {},
   "outputs": [
    {
     "name": "stdout",
     "output_type": "stream",
     "text": [
      "销毁对象<__main__.Person object at 0x000001BA319FE310>\n"
     ]
    }
   ],
   "source": [
    "# 自定义析构方法,用于测试\n",
    "class Person:\n",
    "    \n",
    "    def __del__(self):\n",
    "        print(f\"销毁对象{self}\")\n",
    "\n",
    "p1 = Person()\n",
    "\n",
    "del p1"
   ]
  },
  {
   "cell_type": "markdown",
   "id": "2a299472",
   "metadata": {},
   "source": [
    "### \\__call__方法\n",
    "定义了\\__call__方法的对象，称为“可调用对象\",即该对象可以像函数被调用"
   ]
  },
  {
   "cell_type": "code",
   "execution_count": 25,
   "id": "5a221982",
   "metadata": {},
   "outputs": [
    {
     "name": "stdout",
     "output_type": "stream",
     "text": [
      "测试__call__\n"
     ]
    },
    {
     "data": {
      "text/plain": [
       "'Test __call__'"
      ]
     },
     "execution_count": 25,
     "metadata": {},
     "output_type": "execute_result"
    }
   ],
   "source": [
    "class CallTest:\n",
    "    \n",
    "    def __call__(self):\n",
    "        print('测试__call__')\n",
    "        return 'Test __call__'\n",
    "s = CallTest()\n",
    "s()"
   ]
  },
  {
   "cell_type": "markdown",
   "id": "74b9ff32",
   "metadata": {},
   "source": [
    "### python方法中没有重载\n",
    "如果我们在类中定义了多个重名的方法，只有最后一个方法有效"
   ]
  },
  {
   "cell_type": "code",
   "execution_count": 26,
   "id": "615c7a62",
   "metadata": {},
   "outputs": [
    {
     "name": "stdout",
     "output_type": "stream",
     "text": [
      "hello world\n"
     ]
    }
   ],
   "source": [
    "class PrintNum:\n",
    "    \n",
    "    def num(self):\n",
    "        print('hello')\n",
    "    \n",
    "    def num(self):\n",
    "        print('hello world')\n",
    "\n",
    "n1 = PrintNum()\n",
    "n1.num()"
   ]
  },
  {
   "cell_type": "markdown",
   "id": "836044e4",
   "metadata": {},
   "source": [
    "### 方法的动态性\n",
    "python是动态语言，我们可以动态的为类添加新的方法，或者动态的修改已有的方法"
   ]
  },
  {
   "cell_type": "code",
   "execution_count": 27,
   "id": "c59f1600",
   "metadata": {},
   "outputs": [
    {
     "name": "stdout",
     "output_type": "stream",
     "text": [
      "<__main__.People object at 0x000001BA319FE160>在玩游戏\n",
      "努力上班\n",
      "上班摸鱼\n"
     ]
    }
   ],
   "source": [
    "class People:\n",
    "    \n",
    "    def work(self):\n",
    "        print(\"努力上班\")\n",
    "\n",
    "def play_game(obj):\n",
    "    print(f\"{obj}在玩游戏\")\n",
    "\n",
    "def work2(obj):\n",
    "    print(\"上班摸鱼\")\n",
    "    \n",
    "# 动态为类添加新方法\n",
    "People.play_game = play_game\n",
    "\n",
    "people = People()\n",
    "people.play_game()\n",
    "\n",
    "# 动态修改已有方法\n",
    "people.work()\n",
    "People.work = work2\n",
    "people.work()"
   ]
  }
 ],
 "metadata": {
  "kernelspec": {
   "display_name": "Python 3",
   "language": "python",
   "name": "python3"
  },
  "language_info": {
   "codemirror_mode": {
    "name": "ipython",
    "version": 3
   },
   "file_extension": ".py",
   "mimetype": "text/x-python",
   "name": "python",
   "nbconvert_exporter": "python",
   "pygments_lexer": "ipython3",
   "version": "3.8.8"
  }
 },
 "nbformat": 4,
 "nbformat_minor": 5
}
