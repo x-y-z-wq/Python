{
 "cells": [
  {
   "cell_type": "markdown",
   "id": "087cd12d",
   "metadata": {},
   "source": [
    "## Python 下载 \n",
    "![title](PythonPicture/2022-01-08_165816.png) "
   ]
  },
  {
   "cell_type": "markdown",
   "id": "1eada443",
   "metadata": {},
   "source": [
    "## Python 安装\n",
    "![title](PythonPicture/2022-01-08_173633.png) \n",
    "![title](PythonPicture/2022-01-08_173722.png) \n",
    "![title](PythonPicture/2022-01-08_173852.png)\n",
    "![title](PythonPicture/2022-01-08_173955.png) "
   ]
  },
  {
   "cell_type": "markdown",
   "id": "c30a7d70",
   "metadata": {},
   "source": [
    "## 函数"
   ]
  },
  {
   "cell_type": "markdown",
   "id": "7ef3638a",
   "metadata": {},
   "source": [
    "### 装饰器 @Decorator"
   ]
  },
  {
   "cell_type": "code",
   "execution_count": 1,
   "id": "58baef13",
   "metadata": {},
   "outputs": [
    {
     "name": "stdout",
     "output_type": "stream",
     "text": [
      "***********\n",
      "hello world\n",
      "***********\n"
     ]
    }
   ],
   "source": [
    "def include_print_hello(func):\n",
    "    def include():\n",
    "        print('***********')\n",
    "        func()\n",
    "        print('***********')\n",
    "    return include\n",
    "\n",
    "@include_print_hello\n",
    "def print_hello():\n",
    "    print(\"hello world\")\n",
    "\n",
    "print_hello()"
   ]
  },
  {
   "cell_type": "markdown",
   "id": "4a72af20",
   "metadata": {},
   "source": [
    "### 装饰器 @Decorator (函数含参)"
   ]
  },
  {
   "cell_type": "code",
   "execution_count": 2,
   "id": "cd832261",
   "metadata": {},
   "outputs": [
    {
     "name": "stdout",
     "output_type": "stream",
     "text": [
      "***********\n",
      "hello world\n",
      "***********\n"
     ]
    }
   ],
   "source": [
    "def include_print_hello(func):\n",
    "    def include(*args,**kwagrgs):\n",
    "        print('***********')\n",
    "        func(*args,**kwagrgs)\n",
    "        print('***********')\n",
    "    return include\n",
    "\n",
    "@include_print_hello\n",
    "def print_text(text):\n",
    "    print(text)\n",
    "\n",
    "print_text(\"hello world\")"
   ]
  },
  {
   "cell_type": "markdown",
   "id": "f413a40b",
   "metadata": {},
   "source": [
    "### 装饰器 @Decorator (装饰器含参)"
   ]
  },
  {
   "cell_type": "code",
   "execution_count": 3,
   "id": "72989975",
   "metadata": {},
   "outputs": [
    {
     "name": "stdout",
     "output_type": "stream",
     "text": [
      "***********\n",
      "hello\n",
      "hello world\n",
      "***********\n"
     ]
    }
   ],
   "source": [
    "def include_print_hello(msg = \"No hellow\"):\n",
    "    def decorator(func):\n",
    "        def include(*args,**kwagrgs):\n",
    "            print('***********')\n",
    "            print(msg)\n",
    "            func(*args,**kwagrgs)\n",
    "            print('***********')\n",
    "        return include\n",
    "    return decorator\n",
    "\n",
    "@include_print_hello(msg = \"hello\")\n",
    "def print_text(text):\n",
    "    print(text)\n",
    "\n",
    "print_text(\"hello world\")"
   ]
  },
  {
   "cell_type": "markdown",
   "id": "3fb2ac65",
   "metadata": {},
   "source": [
    "## 类 "
   ]
  },
  {
   "cell_type": "markdown",
   "id": "cc415f2d",
   "metadata": {},
   "source": [
    "### 类的定义\n",
    ">定义类时:  \n",
    ">> 通过 \\_\\_new\\_\\_()方法创建一个对象，一般无需定义该方法，python自动创建  \n",
    ">> 通过 \\_\\_init\\_\\_()方法，初始化创建的对象，即给实例化属性赋值  \n",
    "\n",
    ">创建实例时:  \n",
    ">> 将实例指向创建对象id"
   ]
  },
  {
   "cell_type": "code",
   "execution_count": 4,
   "id": "12f5aca1",
   "metadata": {},
   "outputs": [
    {
     "name": "stdout",
     "output_type": "stream",
     "text": [
      "小明 33\n",
      "努力上班\n"
     ]
    }
   ],
   "source": [
    "# 定义类时，类名一般大写，多个单词采取驼峰原则\n",
    "class Peoples:\n",
    "    # slef指刚创建好的实例对象,且必须为第一个参数\n",
    "    # self名字可随意更改，但一般遵守惯例叫self\n",
    "    def __init__(self,name,age):\n",
    "        # 初始化实例属性\n",
    "        self.name = name \n",
    "        self.age  = age\n",
    "    # 方法:类里面的函数\n",
    "    def work(self):\n",
    "        print(\"努力上班\")\n",
    "\n",
    "# 创建实例\n",
    "p1 = Peoples('小明',33)\n",
    "# 访问实例属性\n",
    "print(p1.name,p1.age)\n",
    "# 更改实例属性,,实例属性从属于实例对象\n",
    "p1.age = 34\n",
    "# 调用实例方法，解释器实际翻译Peoples.work(p1)\n",
    "p1.work()"
   ]
  },
  {
   "cell_type": "markdown",
   "id": "c445096c",
   "metadata": {},
   "source": [
    "### 类也是对象"
   ]
  },
  {
   "cell_type": "code",
   "execution_count": 5,
   "id": "1f1eb66e",
   "metadata": {},
   "outputs": [
    {
     "name": "stdout",
     "output_type": "stream",
     "text": [
      "<class 'type'>\n",
      "<__main__.Peoples object at 0x000001E524197E20>\n"
     ]
    }
   ],
   "source": [
    "class Peoples:\n",
    "    pass \n",
    "\n",
    "# class 类型 ：type\n",
    "print(type(Peoples))\n",
    "# Peoples id --> people\n",
    "people = Peoples\n",
    "# 创建p1对象\n",
    "p1 = people()\n",
    "print(p1)"
   ]
  },
  {
   "cell_type": "markdown",
   "id": "3bfbd560",
   "metadata": {},
   "source": [
    "### 关于类的一些函数与方法\n",
    "> dir(object) 可以获得类或实例对象的所有属性和方法  \n",
    "> object.\\__dict__  获取实例对象的属性字典  \n",
    "> isinstance(object，class) 判断对象是不是属于指定类"
   ]
  },
  {
   "cell_type": "code",
   "execution_count": 6,
   "id": "1db45c40",
   "metadata": {},
   "outputs": [
    {
     "name": "stdout",
     "output_type": "stream",
     "text": [
      "['__class__', '__delattr__', '__dict__', '__dir__', '__doc__', '__eq__', '__format__', '__ge__', '__getattribute__', '__gt__', '__hash__', '__init__', '__init_subclass__', '__le__', '__lt__', '__module__', '__ne__', '__new__', '__reduce__', '__reduce_ex__', '__repr__', '__setattr__', '__sizeof__', '__str__', '__subclasshook__', '__weakref__', 'work']\n",
      "['__class__', '__delattr__', '__dict__', '__dir__', '__doc__', '__eq__', '__format__', '__ge__', '__getattribute__', '__gt__', '__hash__', '__init__', '__init_subclass__', '__le__', '__lt__', '__module__', '__ne__', '__new__', '__reduce__', '__reduce_ex__', '__repr__', '__setattr__', '__sizeof__', '__str__', '__subclasshook__', '__weakref__', 'age', 'name', 'work']\n",
      "{'name': '小明', 'age': 33}\n",
      "True\n"
     ]
    }
   ],
   "source": [
    "class Peoples:\n",
    "    def __init__(self,name,age):\n",
    "        self.name = name \n",
    "        self.age  = age\n",
    "\n",
    "    def work(self):\n",
    "        print(\"努力上班\")\n",
    "        \n",
    "p1 = Peoples('小明',33)\n",
    "\n",
    "print(dir(Peoples))\n",
    "print(dir(p1))\n",
    "print(p1.__dict__)\n",
    "print(isinstance(p1,Peoples))"
   ]
  },
  {
   "cell_type": "code",
   "execution_count": 7,
   "id": "7a663b5e",
   "metadata": {},
   "outputs": [
    {
     "name": "stdout",
     "output_type": "stream",
     "text": [
      "一共创建了2个Student对象\n"
     ]
    }
   ],
   "source": [
    "class Student:\n",
    "    # 类属性\n",
    "    count = 0 \n",
    "    def __init__(self,name,score):\n",
    "        # 实例属性\n",
    "        self.name = name  \n",
    "        self.score = score\n",
    "        \n",
    "        Student.count += 1\n",
    "        \n",
    "    def print_score(self):\n",
    "        print(f\"{self.name}的分数是:{self.score}\")\n",
    "\n",
    "s1 = Student('张三',70)\n",
    "s2 = Student('李四',66)\n",
    "print(f\"一共创建了{Student.count}个Student对象\")"
   ]
  },
  {
   "cell_type": "markdown",
   "id": "210746dc",
   "metadata": {},
   "source": [
    "### 类的装饰器"
   ]
  },
  {
   "cell_type": "code",
   "execution_count": 8,
   "id": "64d04801",
   "metadata": {},
   "outputs": [
    {
     "name": "stdout",
     "output_type": "stream",
     "text": [
      "xx学校\n",
      "10 20\n"
     ]
    }
   ],
   "source": [
    "# @装饰器 \n",
    "# 类方法与静态方法不能调用实例对象与实例方法\n",
    "\n",
    "\n",
    "# 类方法\n",
    "class Student:\n",
    "    school = 'xx学校'\n",
    "    # 装饰器：类方法\n",
    "    # @classmethod 必须位于方法上面一行字\n",
    "    # 第一个参数必须为cls,类似self\n",
    "    @classmethod\n",
    "    def print_school(cls):\n",
    "        print(cls.school)\n",
    "\n",
    "Student.print_school()\n",
    "\n",
    "# 静态方法\n",
    "# python允许定义与“类对象”无关的方法，即“静态方法\"\n",
    "class Student:\n",
    "    school = 'xx学校'\n",
    "    # 装饰器：静态方法\n",
    "    # @staticmethod \n",
    "    # 第一个参数不必为cls\n",
    "    @staticmethod\n",
    "    def print_ab(a,b):\n",
    "        print(a,b)\n",
    "Student.print_ab(10,20)"
   ]
  },
  {
   "cell_type": "markdown",
   "id": "280e7e1f",
   "metadata": {},
   "source": [
    "### 析构函数(方法)    \n",
    "\\__del__方法称为析构方法，用于实现对象被销毁所需的操作。比如释放对象占用的资源，例如：打开的文件资源、网络连接等。  \n",
    "python 实现自动的垃圾回收，当对象没有被引用时（引用计数为0），由垃圾回收器调用\\__del__方法   \n",
    "我们也可以通过del语句删除对象，从而保证调用\\__del__方法  \n",
    "系统会自动提供\\__del__方法，一般不需要自定义析构方法 "
   ]
  },
  {
   "cell_type": "code",
   "execution_count": 9,
   "id": "94dfb98e",
   "metadata": {},
   "outputs": [
    {
     "name": "stdout",
     "output_type": "stream",
     "text": [
      "销毁对象<__main__.Person object at 0x000001E5241D0CD0>\n"
     ]
    }
   ],
   "source": [
    "# 自定义析构方法,用于测试\n",
    "class Person:\n",
    "    \n",
    "    def __del__(self):\n",
    "        print(f\"销毁对象{self}\")\n",
    "\n",
    "p1 = Person()\n",
    "\n",
    "del p1"
   ]
  },
  {
   "cell_type": "markdown",
   "id": "2a299472",
   "metadata": {},
   "source": [
    "### \\__call__方法\n",
    "定义了\\__call__方法的对象，称为“可调用对象\",即该对象可以像函数被调用"
   ]
  },
  {
   "cell_type": "code",
   "execution_count": 10,
   "id": "5a221982",
   "metadata": {},
   "outputs": [
    {
     "name": "stdout",
     "output_type": "stream",
     "text": [
      "测试__call__\n"
     ]
    },
    {
     "data": {
      "text/plain": [
       "'Test __call__'"
      ]
     },
     "execution_count": 10,
     "metadata": {},
     "output_type": "execute_result"
    }
   ],
   "source": [
    "class CallTest:\n",
    "    \n",
    "    def __call__(self):\n",
    "        print('测试__call__')\n",
    "        return 'Test __call__'\n",
    "s = CallTest()\n",
    "s()"
   ]
  },
  {
   "cell_type": "markdown",
   "id": "74b9ff32",
   "metadata": {},
   "source": [
    "### python方法中没有重载\n",
    "如果我们在类中定义了多个重名的方法，只有最后一个方法有效"
   ]
  },
  {
   "cell_type": "code",
   "execution_count": 11,
   "id": "615c7a62",
   "metadata": {},
   "outputs": [
    {
     "name": "stdout",
     "output_type": "stream",
     "text": [
      "hello world\n"
     ]
    }
   ],
   "source": [
    "class PrintNum:\n",
    "    \n",
    "    def num(self):\n",
    "        print('hello')\n",
    "    \n",
    "    def num(self):\n",
    "        print('hello world')\n",
    "\n",
    "n1 = PrintNum()\n",
    "n1.num()"
   ]
  },
  {
   "cell_type": "markdown",
   "id": "836044e4",
   "metadata": {},
   "source": [
    "### 方法的动态性\n",
    "python是动态语言，我们可以动态的为类添加新的方法，或者动态的修改已有的方法"
   ]
  },
  {
   "cell_type": "code",
   "execution_count": 12,
   "id": "c59f1600",
   "metadata": {},
   "outputs": [
    {
     "name": "stdout",
     "output_type": "stream",
     "text": [
      "<__main__.People object at 0x000001E5241EB850>在玩游戏\n",
      "努力上班\n",
      "上班摸鱼\n"
     ]
    }
   ],
   "source": [
    "class People:\n",
    "    \n",
    "    def work(self):\n",
    "        print(\"努力上班\")\n",
    "\n",
    "def play_game(obj):\n",
    "    print(f\"{obj}在玩游戏\")\n",
    "\n",
    "def work2(obj):\n",
    "    print(\"上班摸鱼\")\n",
    "    \n",
    "# 动态为类添加新方法\n",
    "People.play_game = play_game\n",
    "\n",
    "people = People()\n",
    "people.play_game()\n",
    "\n",
    "# 动态修改已有方法\n",
    "people.work()\n",
    "People.work = work2\n",
    "people.work()"
   ]
  }
 ],
 "metadata": {
  "kernelspec": {
   "display_name": "Python 3",
   "language": "python",
   "name": "python3"
  },
  "language_info": {
   "codemirror_mode": {
    "name": "ipython",
    "version": 3
   },
   "file_extension": ".py",
   "mimetype": "text/x-python",
   "name": "python",
   "nbconvert_exporter": "python",
   "pygments_lexer": "ipython3",
   "version": "3.8.8"
  }
 },
 "nbformat": 4,
 "nbformat_minor": 5
}
